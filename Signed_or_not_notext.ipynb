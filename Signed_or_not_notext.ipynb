{
  "nbformat": 4,
  "nbformat_minor": 0,
  "metadata": {
    "colab": {
      "name": "Signed_or_not_notext.ipynb",
      "version": "0.3.2",
      "provenance": [],
      "collapsed_sections": [],
      "include_colab_link": true
    },
    "kernelspec": {
      "name": "python3",
      "display_name": "Python 3"
    }
  },
  "cells": [
    {
      "cell_type": "markdown",
      "metadata": {
        "id": "view-in-github",
        "colab_type": "text"
      },
      "source": [
        "<a href=\"https://colab.research.google.com/github/juanluisrosaramos/document_classification/blob/master/Signed_or_not_notext.ipynb\" target=\"_parent\"><img src=\"https://colab.research.google.com/assets/colab-badge.svg\" alt=\"Open In Colab\"/></a>"
      ]
    },
    {
      "metadata": {
        "id": "TjEGo-CGQpZv",
        "colab_type": "code",
        "colab": {}
      },
      "cell_type": "code",
      "source": [
        "#from google.colab import auth\n",
        "import matplotlib.pyplot as plt\n",
        "import numpy as np # linear algebra\n",
        "from __future__ import print_function\n",
        "import pandas as pd\n",
        "from scipy.stats import spearmanr\n",
        "import warnings\n",
        "warnings.filterwarnings(\"ignore\")\n",
        "from sklearn import ensemble\n",
        "\n"
      ],
      "execution_count": 0,
      "outputs": []
    },
    {
      "metadata": {
        "id": "OtCczrhH2v8O",
        "colab_type": "text"
      },
      "cell_type": "markdown",
      "source": [
        "# Descriptive analysis on the Data"
      ]
    },
    {
      "metadata": {
        "id": "ZcRl43dsjoB8",
        "colab_type": "text"
      },
      "cell_type": "markdown",
      "source": [
        "Download csv and create pandas frames with Train data and Test data.\n",
        "\n",
        "*   Train rows and columns :  (132637, 56)\n",
        "*   Test rows and columns :  (10000, 55)\n",
        "*   Target:  Binary with no outliers in the target distribution\n",
        "\n",
        "\n"
      ]
    },
    {
      "metadata": {
        "id": "kCjYbc_dRPtl",
        "colab_type": "code",
        "outputId": "99e7c9f6-62ee-4217-c0ea-522bfa2d93bb",
        "colab": {
          "base_uri": "https://localhost:8080/",
          "height": 4403
        }
      },
      "cell_type": "code",
      "source": [
        "#train_df = pd.read_csv(\"train.csv\", sep=\",\")\n",
        "#test_df = pd.read_csv(\"test.csv\", sep=\",\")\n",
        "\n",
        "def explore_dataset(df):\n",
        "  print ('\\n****** dtypes *******\\n',df.dtypes) \n",
        "  print ('\\n****** Floats values example *******\\n',df.select_dtypes(['float64']).loc[65,:])\n",
        "  print ('\\n****** Integers values example *******\\n',df.select_dtypes(['int64']).loc[65,:])\n",
        "  print ('\\n****** Object values example *******\\n',df.select_dtypes(['object']).loc[5,:])\n",
        "  index = df.index\n",
        "  print ('\\n****** Row numbers *******\\n',index)\n",
        "  #df.iloc[2:115, :5]\n",
        "  #print ('\\n****** Head *******\\n',df.head())\n",
        "  print ('\\n****** Shape *******\\n',df.shape)\n",
        "\n",
        "data = [train_df, test_df]\n",
        "\n",
        "for dataset in data:\n",
        "  explore_dataset(dataset)\n"
      ],
      "execution_count": 4,
      "outputs": [
        {
          "output_type": "stream",
          "text": [
            "\n",
            "****** dtypes *******\n",
            " Unnamed: 0                                  int64\n",
            "id                                          int64\n",
            "Account_age_days                          float64\n",
            "Country_CAT                                 int64\n",
            "Currency_CAT                                int64\n",
            "Day_of_the_month                            int64\n",
            "Day_of_the_week                             int64\n",
            "Dimensions_height                         float64\n",
            "Dimensions_width                          float64\n",
            "Expire_time_days                          float64\n",
            "First_pending_reminders                   float64\n",
            "Has_body                                    int64\n",
            "Has_protection                            float64\n",
            "Has_signature_position                      int64\n",
            "Has_signer_name                             int64\n",
            "Has_signer_phone                            int64\n",
            "Has_subject                                 int64\n",
            "Has_template                                int64\n",
            "Has_terms_and_conditions                    int64\n",
            "Highest_page                              float64\n",
            "In_person                                 float64\n",
            "License_tier_CAT                            int64\n",
            "Limit_quantity                            float64\n",
            "Lowest_page                               float64\n",
            "Method_CAT                                  int64\n",
            "Month                                       int64\n",
            "Non_customer_enterprise_signer              int64\n",
            "Num_of_pending_reminders                    int64\n",
            "Num_of_required_page                        int64\n",
            "Num_of_signatures                         float64\n",
            "Num_of_widgets                            float64\n",
            "Original_sender_mail_domain_CAT             int64\n",
            "Original_sender_mail_region_CAT             int64\n",
            "Original_sender_mail_username_CAT           int64\n",
            "Original_sender_vs_signer_same_address    float64\n",
            "Original_sender_vs_signer_same_domain     float64\n",
            "Original_size                             float64\n",
            "Pages                                     float64\n",
            "Paid_per_year                             float64\n",
            "Part                                        int64\n",
            "Raw_text                                   object\n",
            "Repaired                                  float64\n",
            "Required_audio                              int64\n",
            "Required_photo_ids                          int64\n",
            "Required_photos                             int64\n",
            "Seat_admin_role                             int64\n",
            "Signer_mail_domain_CAT                      int64\n",
            "Signer_mail_region_CAT                      int64\n",
            "Signer_mail_username_CAT                    int64\n",
            "Size                                        int64\n",
            "Source_CAT                                  int64\n",
            "Time_of_the_day_seconds                     int64\n",
            "Type_CAT                                    int64\n",
            "User_age_days                             float64\n",
            "Zipcode                                   float64\n",
            "Target_sign                                 int64\n",
            "dtype: object\n",
            "\n",
            "****** Floats values example *******\n",
            " Account_age_days                              825.0\n",
            "Dimensions_height                             842.0\n",
            "Dimensions_width                              595.0\n",
            "Expire_time_days                                NaN\n",
            "First_pending_reminders                         NaN\n",
            "Has_protection                                  0.0\n",
            "Highest_page                                    NaN\n",
            "In_person                                       1.0\n",
            "Limit_quantity                                  NaN\n",
            "Lowest_page                                     NaN\n",
            "Num_of_signatures                               NaN\n",
            "Num_of_widgets                                  NaN\n",
            "Original_sender_vs_signer_same_address          0.0\n",
            "Original_sender_vs_signer_same_domain           0.0\n",
            "Original_size                             1244481.0\n",
            "Pages                                          16.0\n",
            "Paid_per_year                                   NaN\n",
            "Repaired                                        1.0\n",
            "User_age_days                                 298.0\n",
            "Zipcode                                         NaN\n",
            "Name: 65, dtype: float64\n",
            "\n",
            "****** Integers values example *******\n",
            " Unnamed: 0                              5265\n",
            "id                                      5265\n",
            "Country_CAT                                0\n",
            "Currency_CAT                               0\n",
            "Day_of_the_month                           3\n",
            "Day_of_the_week                            0\n",
            "Has_body                                   1\n",
            "Has_signature_position                     0\n",
            "Has_signer_name                            1\n",
            "Has_signer_phone                           0\n",
            "Has_subject                                0\n",
            "Has_template                               0\n",
            "Has_terms_and_conditions                   1\n",
            "License_tier_CAT                           5\n",
            "Method_CAT                                 1\n",
            "Month                                      9\n",
            "Non_customer_enterprise_signer             0\n",
            "Num_of_pending_reminders                   0\n",
            "Num_of_required_page                       0\n",
            "Original_sender_mail_domain_CAT            8\n",
            "Original_sender_mail_region_CAT            0\n",
            "Original_sender_mail_username_CAT          7\n",
            "Part                                       0\n",
            "Required_audio                             0\n",
            "Required_photo_ids                         0\n",
            "Required_photos                            0\n",
            "Seat_admin_role                            1\n",
            "Signer_mail_domain_CAT                     9\n",
            "Signer_mail_region_CAT                     0\n",
            "Signer_mail_username_CAT                  41\n",
            "Size                                 1338105\n",
            "Source_CAT                                 0\n",
            "Time_of_the_day_seconds                44017\n",
            "Type_CAT                                   0\n",
            "Target_sign                                0\n",
            "Name: 65, dtype: int64\n",
            "\n",
            "****** Object values example *******\n",
            " Raw_text    de marca a sucursal en de sucursal en de defen...\n",
            "Name: 5, dtype: object\n",
            "\n",
            "****** Row numbers *******\n",
            " RangeIndex(start=0, stop=132637, step=1)\n",
            "\n",
            "****** Shape *******\n",
            " (132637, 56)\n",
            "\n",
            "****** dtypes *******\n",
            " Unnamed: 0                                  int64\n",
            "id                                          int64\n",
            "Account_age_days                          float64\n",
            "Country_CAT                                 int64\n",
            "Currency_CAT                                int64\n",
            "Day_of_the_month                            int64\n",
            "Day_of_the_week                             int64\n",
            "Dimensions_height                         float64\n",
            "Dimensions_width                          float64\n",
            "Expire_time_days                          float64\n",
            "First_pending_reminders                   float64\n",
            "Has_body                                    int64\n",
            "Has_protection                            float64\n",
            "Has_signature_position                      int64\n",
            "Has_signer_name                             int64\n",
            "Has_signer_phone                            int64\n",
            "Has_subject                                 int64\n",
            "Has_template                                int64\n",
            "Has_terms_and_conditions                    int64\n",
            "Highest_page                              float64\n",
            "In_person                                 float64\n",
            "License_tier_CAT                            int64\n",
            "Limit_quantity                            float64\n",
            "Lowest_page                               float64\n",
            "Method_CAT                                  int64\n",
            "Month                                       int64\n",
            "Non_customer_enterprise_signer              int64\n",
            "Num_of_pending_reminders                    int64\n",
            "Num_of_required_page                        int64\n",
            "Num_of_signatures                         float64\n",
            "Num_of_widgets                            float64\n",
            "Original_sender_mail_domain_CAT             int64\n",
            "Original_sender_mail_region_CAT             int64\n",
            "Original_sender_mail_username_CAT           int64\n",
            "Original_sender_vs_signer_same_address    float64\n",
            "Original_sender_vs_signer_same_domain     float64\n",
            "Original_size                             float64\n",
            "Pages                                     float64\n",
            "Paid_per_year                             float64\n",
            "Part                                        int64\n",
            "Raw_text                                   object\n",
            "Repaired                                  float64\n",
            "Required_audio                              int64\n",
            "Required_photo_ids                          int64\n",
            "Required_photos                             int64\n",
            "Seat_admin_role                             int64\n",
            "Signer_mail_domain_CAT                      int64\n",
            "Signer_mail_region_CAT                      int64\n",
            "Signer_mail_username_CAT                    int64\n",
            "Size                                        int64\n",
            "Source_CAT                                  int64\n",
            "Time_of_the_day_seconds                     int64\n",
            "Type_CAT                                    int64\n",
            "User_age_days                             float64\n",
            "Zipcode                                   float64\n",
            "dtype: object\n",
            "\n",
            "****** Floats values example *******\n",
            " Account_age_days                             577.00\n",
            "Dimensions_height                            841.89\n",
            "Dimensions_width                             595.28\n",
            "Expire_time_days                                NaN\n",
            "First_pending_reminders                    86400.00\n",
            "Has_protection                                 0.00\n",
            "Highest_page                                   0.00\n",
            "In_person                                      0.00\n",
            "Limit_quantity                                  NaN\n",
            "Lowest_page                                    0.00\n",
            "Num_of_signatures                              1.00\n",
            "Num_of_widgets                                 1.00\n",
            "Original_sender_vs_signer_same_address         0.00\n",
            "Original_sender_vs_signer_same_domain          0.00\n",
            "Original_size                             388015.00\n",
            "Pages                                          1.00\n",
            "Paid_per_year                             163368.00\n",
            "Repaired                                       1.00\n",
            "User_age_days                                577.00\n",
            "Zipcode                                         NaN\n",
            "Name: 65, dtype: float64\n",
            "\n",
            "****** Integers values example *******\n",
            " Unnamed: 0                            76121\n",
            "id                                    76121\n",
            "Country_CAT                               1\n",
            "Currency_CAT                              1\n",
            "Day_of_the_month                         18\n",
            "Day_of_the_week                           1\n",
            "Has_body                                  1\n",
            "Has_signature_position                    0\n",
            "Has_signer_name                           1\n",
            "Has_signer_phone                          0\n",
            "Has_subject                               1\n",
            "Has_template                              1\n",
            "Has_terms_and_conditions                  0\n",
            "License_tier_CAT                          4\n",
            "Method_CAT                                2\n",
            "Month                                     9\n",
            "Non_customer_enterprise_signer            0\n",
            "Num_of_pending_reminders                 89\n",
            "Num_of_required_page                      0\n",
            "Original_sender_mail_domain_CAT         119\n",
            "Original_sender_mail_region_CAT           1\n",
            "Original_sender_mail_username_CAT       122\n",
            "Part                                      0\n",
            "Required_audio                            0\n",
            "Required_photo_ids                        0\n",
            "Required_photos                           0\n",
            "Seat_admin_role                           1\n",
            "Signer_mail_domain_CAT                    2\n",
            "Signer_mail_region_CAT                    0\n",
            "Signer_mail_username_CAT              29221\n",
            "Size                                 438300\n",
            "Source_CAT                                1\n",
            "Time_of_the_day_seconds               30725\n",
            "Type_CAT                                  0\n",
            "Name: 65, dtype: int64\n",
            "\n",
            "****** Object values example *******\n",
            " Raw_text    de zona general de plataforma a cuadrante mese...\n",
            "Name: 5, dtype: object\n",
            "\n",
            "****** Row numbers *******\n",
            " RangeIndex(start=0, stop=10000, step=1)\n",
            "\n",
            "****** Shape *******\n",
            " (10000, 55)\n"
          ],
          "name": "stdout"
        }
      ]
    },
    {
      "metadata": {
        "id": "a9OhDHM3-BSt",
        "colab_type": "text"
      },
      "cell_type": "markdown",
      "source": [
        "# Let's explore the target field.\n",
        "It's a binary called Target_sign with no outliers and 67% of signed documents."
      ]
    },
    {
      "metadata": {
        "id": "ps93N6T7-GWC",
        "colab_type": "code",
        "outputId": "2422b1c9-7361-4164-a98b-1f7c64196e19",
        "colab": {
          "base_uri": "https://localhost:8080/",
          "height": 396
        }
      },
      "cell_type": "code",
      "source": [
        "count_Class=pd.value_counts(train_df['Target_sign'], sort= True)\n",
        "print (count_Class)\n",
        "count_Class.plot(kind='pie',  autopct='%1.0f%%')\n",
        "plt.title('Pie chart')\n",
        "plt.show()\n"
      ],
      "execution_count": 5,
      "outputs": [
        {
          "output_type": "stream",
          "text": [
            "1    89150\n",
            "0    43487\n",
            "Name: Target_sign, dtype: int64\n"
          ],
          "name": "stdout"
        },
        {
          "output_type": "display_data",
          "data": {
            "image/png": "[encoded data removed]",
            "text/plain": [
              "<matplotlib.figure.Figure at 0x7f50cb8f2eb8>"
            ]
          },
          "metadata": {
            "tags": []
          }
        }
      ]
    },
    {
      "metadata": {
        "id": "UIJEbW33j4sv",
        "colab_type": "text"
      },
      "cell_type": "markdown",
      "source": [
        "# Missing values\n",
        "Let's look for missing values in the columns the percentages against the total values of the column"
      ]
    },
    {
      "metadata": {
        "id": "FkwnXU41RqKQ",
        "colab_type": "code",
        "outputId": "65d3d720-14e3-414c-ff3f-f4a05a646cde",
        "colab": {
          "base_uri": "https://localhost:8080/",
          "height": 595
        }
      },
      "cell_type": "code",
      "source": [
        "def missing_values(df):\n",
        "  #Looking for missing values \n",
        "  total = df.isnull().sum().sort_values(ascending=True)\n",
        "  percent_1 = df.isnull().sum()/df.isnull().count()*100\n",
        "  percent_2 = (round(percent_1, 1)).sort_values(ascending=False)\n",
        "  missing_data = pd.concat([total, percent_2], axis=1, keys=['Total', '%'])\n",
        "  #Keep only when values > 0\n",
        "  missing_data = missing_data[(missing_data > 0).any(axis=1)]\n",
        "  return missing_data\n",
        " \n",
        "for dataset in data:\n",
        "  dataset = missing_values(dataset)\n",
        "  print('****** Dataset missing values *********\\n',dataset.head(50))\n",
        "  \n",
        "  \n",
        "  "
      ],
      "execution_count": 6,
      "outputs": [
        {
          "output_type": "stream",
          "text": [
            "****** Dataset missing values *********\n",
            "                                          Total      %\n",
            "Dimensions_height                           15    0.0\n",
            "Dimensions_width                            15    0.0\n",
            "Expire_time_days                        101546   76.6\n",
            "First_pending_reminders                  79071   59.6\n",
            "Highest_page                             94680   71.4\n",
            "In_person                                   23    0.0\n",
            "Limit_quantity                          132637  100.0\n",
            "Lowest_page                              94680   71.4\n",
            "Num_of_signatures                        94680   71.4\n",
            "Num_of_widgets                           94680   71.4\n",
            "Original_sender_vs_signer_same_address    2144    1.6\n",
            "Original_sender_vs_signer_same_domain     2144    1.6\n",
            "Original_size                                2    0.0\n",
            "Pages                                       13    0.0\n",
            "Paid_per_year                           115209   86.9\n",
            "Repaired                                  3817    2.9\n",
            "Zipcode                                 132637  100.0\n",
            "****** Dataset missing values *********\n",
            "                                         Total      %\n",
            "Expire_time_days                         7578   75.8\n",
            "First_pending_reminders                  5925   59.2\n",
            "Highest_page                             7182   71.8\n",
            "In_person                                   4    0.0\n",
            "Limit_quantity                          10000  100.0\n",
            "Lowest_page                              7182   71.8\n",
            "Num_of_signatures                        7182   71.8\n",
            "Num_of_widgets                           7182   71.8\n",
            "Original_sender_vs_signer_same_address    178    1.8\n",
            "Original_sender_vs_signer_same_domain     178    1.8\n",
            "Paid_per_year                            8734   87.3\n",
            "Repaired                                  309    3.1\n",
            "Zipcode                                 10000  100.0\n"
          ],
          "name": "stdout"
        }
      ]
    },
    {
      "metadata": {
        "id": "Fl0axBzEkbn6",
        "colab_type": "text"
      },
      "cell_type": "markdown",
      "source": [
        "# Remove columns\n",
        "The similar values are founded in the Train and Test partition. Taking into account the descriptive name of the field  and the percentage of missing fields I decide to eliminate columns with a percentage of missing greater than 70%.\n",
        "\n",
        "So, we drop those 8 columns: **Zipcode, Paid_per_year, Num_of_widgets, Num_of_signatures, Lowest_page, Limit_quantity, Highest_page, Expire_time_days**\n",
        "\n",
        "At that point I decide to \"divide and conquer\" the problem and make an analysis of the raw text in other notebook to see if it's useful for the final classification. So We will also remove the column **Raw_text ** and will not use the text for this experiments."
      ]
    },
    {
      "metadata": {
        "id": "GYIXHEvXYpLN",
        "colab_type": "code",
        "outputId": "c1f9e71c-3976-4649-d5cf-e556dacc458c",
        "colab": {
          "base_uri": "https://localhost:8080/",
          "height": 119
        }
      },
      "cell_type": "code",
      "source": [
        "#Function that return fields with % of missing \n",
        "def missing_values(df, percentage):\n",
        "    columns = df.columns\n",
        "    percent_missing = df.isnull().sum() * 100 / len(df)\n",
        "    missing_value_df = pd.DataFrame({'column_name': columns,\n",
        "                                 'percent_missing': percent_missing})\n",
        "\n",
        "    missing_drop = list(missing_value_df[missing_value_df.percent_missing>percentage].column_name)\n",
        "    print('Columns to work with:',missing_drop)\n",
        "    return missing_drop    \n",
        "    \n",
        "#Remove columns of both datasets\n",
        "for dataset in data:\n",
        "   print(\"Rows and columns:\", dataset.shape)\n",
        "   dataset.drop(['Raw_text'], axis=1, inplace=True)   \n",
        "   dataset.drop(missing_values(dataset, 70), axis=1, inplace=True)\n",
        "  \n",
        "print(\"Train rows and columns after removing : \", train_df.shape)\n",
        "print(\"Test rows and columns after removing : \", test_df.shape)"
      ],
      "execution_count": 7,
      "outputs": [
        {
          "output_type": "stream",
          "text": [
            "Rows and columns: (132637, 56)\n",
            "Columns to work with: ['Expire_time_days', 'Highest_page', 'Limit_quantity', 'Lowest_page', 'Num_of_signatures', 'Num_of_widgets', 'Paid_per_year', 'Zipcode']\n",
            "Rows and columns: (10000, 55)\n",
            "Columns to work with: ['Expire_time_days', 'Highest_page', 'Limit_quantity', 'Lowest_page', 'Num_of_signatures', 'Num_of_widgets', 'Paid_per_year', 'Zipcode']\n",
            "Train rows and columns after removing :  (132637, 47)\n",
            "Test rows and columns after removing :  (10000, 46)\n"
          ],
          "name": "stdout"
        }
      ]
    },
    {
      "metadata": {
        "id": "z8yBm7mUpXwh",
        "colab_type": "text"
      },
      "cell_type": "markdown",
      "source": [
        "# Imputation\n",
        "Let's work with missing values replacement in low percentage fields. After observing their mean and std I decide to replace them with the mean value of each column (dataset.fillna(dataset.mean()))."
      ]
    },
    {
      "metadata": {
        "id": "gnHNaAHHaOap",
        "colab_type": "code",
        "outputId": "656bbcea-b1fe-4516-e5b1-4a7b99426669",
        "colab": {
          "base_uri": "https://localhost:8080/",
          "height": 1120
        }
      },
      "cell_type": "code",
      "source": [
        "for dataset in data:   \n",
        "   for field in missing_values(dataset, 2):\n",
        "    print ('\\n*******',field,'**********\\n')\n",
        "    print (dataset[field].describe())    \n",
        "    #Replace values with mean\n",
        "    dataset.fillna(dataset.mean(), inplace=True)\n",
        "\n",
        "train_df.head()\n",
        "#print(test_df.head())\n"
      ],
      "execution_count": 8,
      "outputs": [
        {
          "output_type": "stream",
          "text": [
            "Columns to work with: ['First_pending_reminders', 'Repaired']\n",
            "\n",
            "******* First_pending_reminders **********\n",
            "\n",
            "count    5.356600e+04\n",
            "mean     6.077132e+05\n",
            "std      8.619469e+05\n",
            "min      0.000000e+00\n",
            "25%      8.640000e+04\n",
            "50%      6.048000e+05\n",
            "75%      6.048000e+05\n",
            "max      4.000000e+06\n",
            "Name: First_pending_reminders, dtype: float64\n",
            "\n",
            "******* Repaired **********\n",
            "\n",
            "count    132637.000000\n",
            "mean          0.994636\n",
            "std           0.071985\n",
            "min           0.000000\n",
            "25%           1.000000\n",
            "50%           1.000000\n",
            "75%           1.000000\n",
            "max           1.000000\n",
            "Name: Repaired, dtype: float64\n",
            "Columns to work with: ['First_pending_reminders', 'Repaired']\n",
            "\n",
            "******* First_pending_reminders **********\n",
            "\n",
            "count    4.075000e+03\n",
            "mean     5.932275e+05\n",
            "std      8.361368e+05\n",
            "min      0.000000e+00\n",
            "25%      8.640000e+04\n",
            "50%      6.048000e+05\n",
            "75%      6.048000e+05\n",
            "max      4.000000e+06\n",
            "Name: First_pending_reminders, dtype: float64\n",
            "\n",
            "******* Repaired **********\n",
            "\n",
            "count    10000.000000\n",
            "mean         0.994841\n",
            "std          0.070532\n",
            "min          0.000000\n",
            "25%          1.000000\n",
            "50%          1.000000\n",
            "75%          1.000000\n",
            "max          1.000000\n",
            "Name: Repaired, dtype: float64\n"
          ],
          "name": "stdout"
        },
        {
          "output_type": "execute_result",
          "data": {
            "text/html": [
              "<div>\n",
              "<style scoped>\n",
              "    .dataframe tbody tr th:only-of-type {\n",
              "        vertical-align: middle;\n",
              "    }\n",
              "\n",
              "    .dataframe tbody tr th {\n",
              "        vertical-align: top;\n",
              "    }\n",
              "\n",
              "    .dataframe thead th {\n",
              "        text-align: right;\n",
              "    }\n",
              "</style>\n",
              "<table border=\"1\" class=\"dataframe\">\n",
              "  <thead>\n",
              "    <tr style=\"text-align: right;\">\n",
              "      <th></th>\n",
              "      <th>Unnamed: 0</th>\n",
              "      <th>id</th>\n",
              "      <th>Account_age_days</th>\n",
              "      <th>Country_CAT</th>\n",
              "      <th>Currency_CAT</th>\n",
              "      <th>Day_of_the_month</th>\n",
              "      <th>Day_of_the_week</th>\n",
              "      <th>Dimensions_height</th>\n",
              "      <th>Dimensions_width</th>\n",
              "      <th>First_pending_reminders</th>\n",
              "      <th>...</th>\n",
              "      <th>Seat_admin_role</th>\n",
              "      <th>Signer_mail_domain_CAT</th>\n",
              "      <th>Signer_mail_region_CAT</th>\n",
              "      <th>Signer_mail_username_CAT</th>\n",
              "      <th>Size</th>\n",
              "      <th>Source_CAT</th>\n",
              "      <th>Time_of_the_day_seconds</th>\n",
              "      <th>Type_CAT</th>\n",
              "      <th>User_age_days</th>\n",
              "      <th>Target_sign</th>\n",
              "    </tr>\n",
              "  </thead>\n",
              "  <tbody>\n",
              "    <tr>\n",
              "      <th>0</th>\n",
              "      <td>11461</td>\n",
              "      <td>11461</td>\n",
              "      <td>826.0</td>\n",
              "      <td>0</td>\n",
              "      <td>0</td>\n",
              "      <td>4</td>\n",
              "      <td>1</td>\n",
              "      <td>842.0</td>\n",
              "      <td>595.0</td>\n",
              "      <td>607713.164377</td>\n",
              "      <td>...</td>\n",
              "      <td>1</td>\n",
              "      <td>9</td>\n",
              "      <td>0</td>\n",
              "      <td>41</td>\n",
              "      <td>119111</td>\n",
              "      <td>0</td>\n",
              "      <td>45348</td>\n",
              "      <td>0</td>\n",
              "      <td>299.0</td>\n",
              "      <td>0</td>\n",
              "    </tr>\n",
              "    <tr>\n",
              "      <th>1</th>\n",
              "      <td>76666</td>\n",
              "      <td>76666</td>\n",
              "      <td>0.0</td>\n",
              "      <td>0</td>\n",
              "      <td>0</td>\n",
              "      <td>18</td>\n",
              "      <td>1</td>\n",
              "      <td>842.0</td>\n",
              "      <td>595.0</td>\n",
              "      <td>86400.000000</td>\n",
              "      <td>...</td>\n",
              "      <td>1</td>\n",
              "      <td>2</td>\n",
              "      <td>0</td>\n",
              "      <td>29497</td>\n",
              "      <td>41961</td>\n",
              "      <td>1</td>\n",
              "      <td>32622</td>\n",
              "      <td>0</td>\n",
              "      <td>0.0</td>\n",
              "      <td>1</td>\n",
              "    </tr>\n",
              "    <tr>\n",
              "      <th>2</th>\n",
              "      <td>105984</td>\n",
              "      <td>105984</td>\n",
              "      <td>847.0</td>\n",
              "      <td>0</td>\n",
              "      <td>0</td>\n",
              "      <td>25</td>\n",
              "      <td>1</td>\n",
              "      <td>842.0</td>\n",
              "      <td>595.0</td>\n",
              "      <td>607713.164377</td>\n",
              "      <td>...</td>\n",
              "      <td>1</td>\n",
              "      <td>9</td>\n",
              "      <td>0</td>\n",
              "      <td>41</td>\n",
              "      <td>119095</td>\n",
              "      <td>0</td>\n",
              "      <td>21839</td>\n",
              "      <td>0</td>\n",
              "      <td>320.0</td>\n",
              "      <td>0</td>\n",
              "    </tr>\n",
              "    <tr>\n",
              "      <th>3</th>\n",
              "      <td>114228</td>\n",
              "      <td>114228</td>\n",
              "      <td>848.0</td>\n",
              "      <td>0</td>\n",
              "      <td>0</td>\n",
              "      <td>26</td>\n",
              "      <td>2</td>\n",
              "      <td>842.0</td>\n",
              "      <td>595.0</td>\n",
              "      <td>607713.164377</td>\n",
              "      <td>...</td>\n",
              "      <td>1</td>\n",
              "      <td>9</td>\n",
              "      <td>0</td>\n",
              "      <td>41</td>\n",
              "      <td>118907</td>\n",
              "      <td>0</td>\n",
              "      <td>23115</td>\n",
              "      <td>0</td>\n",
              "      <td>321.0</td>\n",
              "      <td>1</td>\n",
              "    </tr>\n",
              "    <tr>\n",
              "      <th>4</th>\n",
              "      <td>1449</td>\n",
              "      <td>1449</td>\n",
              "      <td>824.0</td>\n",
              "      <td>0</td>\n",
              "      <td>0</td>\n",
              "      <td>2</td>\n",
              "      <td>6</td>\n",
              "      <td>842.0</td>\n",
              "      <td>595.0</td>\n",
              "      <td>607713.164377</td>\n",
              "      <td>...</td>\n",
              "      <td>1</td>\n",
              "      <td>9</td>\n",
              "      <td>0</td>\n",
              "      <td>41</td>\n",
              "      <td>1710912</td>\n",
              "      <td>0</td>\n",
              "      <td>33786</td>\n",
              "      <td>0</td>\n",
              "      <td>297.0</td>\n",
              "      <td>1</td>\n",
              "    </tr>\n",
              "  </tbody>\n",
              "</table>\n",
              "<p>5 rows × 47 columns</p>\n",
              "</div>"
            ],
            "text/plain": [
              "   Unnamed: 0      id  Account_age_days  Country_CAT  Currency_CAT  \\\n",
              "0       11461   11461             826.0            0             0   \n",
              "1       76666   76666               0.0            0             0   \n",
              "2      105984  105984             847.0            0             0   \n",
              "3      114228  114228             848.0            0             0   \n",
              "4        1449    1449             824.0            0             0   \n",
              "\n",
              "   Day_of_the_month  Day_of_the_week  Dimensions_height  Dimensions_width  \\\n",
              "0                 4                1              842.0             595.0   \n",
              "1                18                1              842.0             595.0   \n",
              "2                25                1              842.0             595.0   \n",
              "3                26                2              842.0             595.0   \n",
              "4                 2                6              842.0             595.0   \n",
              "\n",
              "   First_pending_reminders     ...       Seat_admin_role  \\\n",
              "0            607713.164377     ...                     1   \n",
              "1             86400.000000     ...                     1   \n",
              "2            607713.164377     ...                     1   \n",
              "3            607713.164377     ...                     1   \n",
              "4            607713.164377     ...                     1   \n",
              "\n",
              "   Signer_mail_domain_CAT  Signer_mail_region_CAT  Signer_mail_username_CAT  \\\n",
              "0                       9                       0                        41   \n",
              "1                       2                       0                     29497   \n",
              "2                       9                       0                        41   \n",
              "3                       9                       0                        41   \n",
              "4                       9                       0                        41   \n",
              "\n",
              "      Size  Source_CAT  Time_of_the_day_seconds  Type_CAT  User_age_days  \\\n",
              "0   119111           0                    45348         0          299.0   \n",
              "1    41961           1                    32622         0            0.0   \n",
              "2   119095           0                    21839         0          320.0   \n",
              "3   118907           0                    23115         0          321.0   \n",
              "4  1710912           0                    33786         0          297.0   \n",
              "\n",
              "   Target_sign  \n",
              "0            0  \n",
              "1            1  \n",
              "2            0  \n",
              "3            1  \n",
              "4            1  \n",
              "\n",
              "[5 rows x 47 columns]"
            ]
          },
          "metadata": {
            "tags": []
          },
          "execution_count": 8
        }
      ]
    },
    {
      "metadata": {
        "id": "TXs7uu7Jp_Wc",
        "colab_type": "text"
      },
      "cell_type": "markdown",
      "source": [
        "# Constant values\n",
        "Let's explore constant values that are columns with the same value in each row. I decide to drop those columns."
      ]
    },
    {
      "metadata": {
        "id": "UusgdL4g96Bh",
        "colab_type": "code",
        "outputId": "a9b39d52-cf85-435b-cf35-4e2cbaa749e7",
        "colab": {
          "base_uri": "https://localhost:8080/",
          "height": 255
        }
      },
      "cell_type": "code",
      "source": [
        "def detect_uniques(df):\n",
        "  unique_df = df.nunique().reset_index()\n",
        "  unique_df.columns = [\"col_name\", \"unique_count\"]\n",
        "  constant_df = unique_df[unique_df[\"unique_count\"]==1]\n",
        "  print(constant_df)  \n",
        "  return(constant_df.col_name.tolist())\n",
        "\n",
        "\n",
        "print(train_df.shape)\n",
        "\n",
        "for dataset in data:\n",
        "   print(\"Rows and columns:\", dataset.shape)   \n",
        "   dataset.drop(detect_uniques(dataset), axis=1, inplace=True)  \n",
        "\n",
        "print(train_df.shape)"
      ],
      "execution_count": 9,
      "outputs": [
        {
          "output_type": "stream",
          "text": [
            "(132637, 47)\n",
            "Rows and columns: (132637, 47)\n",
            "                                  col_name  unique_count\n",
            "21                                   Month             1\n",
            "28  Original_sender_vs_signer_same_address             1\n",
            "29   Original_sender_vs_signer_same_domain             1\n",
            "Rows and columns: (10000, 46)\n",
            "                                  col_name  unique_count\n",
            "21                                   Month             1\n",
            "28  Original_sender_vs_signer_same_address             1\n",
            "29   Original_sender_vs_signer_same_domain             1\n",
            "34                          Required_audio             1\n",
            "35                      Required_photo_ids             1\n",
            "(132637, 44)\n"
          ],
          "name": "stdout"
        }
      ]
    },
    {
      "metadata": {
        "id": "7h0_C3_uDRT2",
        "colab_type": "text"
      },
      "cell_type": "markdown",
      "source": [
        "I detected that in the previous step more columns where dropped in the Test partition than in the Train. Let's explore those fields"
      ]
    },
    {
      "metadata": {
        "id": "SYI3U0uxDX-J",
        "colab_type": "code",
        "outputId": "f288454c-f79a-4a69-be41-88741c94576a",
        "colab": {
          "base_uri": "https://localhost:8080/",
          "height": 323
        }
      },
      "cell_type": "code",
      "source": [
        "print(train_df['Required_audio'].describe())\n",
        "print(train_df['Required_photo_ids'].describe())\n"
      ],
      "execution_count": 10,
      "outputs": [
        {
          "output_type": "stream",
          "text": [
            "count    132637.000000\n",
            "mean          0.000060\n",
            "std           0.007766\n",
            "min           0.000000\n",
            "25%           0.000000\n",
            "50%           0.000000\n",
            "75%           0.000000\n",
            "max           1.000000\n",
            "Name: Required_audio, dtype: float64\n",
            "count    132637.000000\n",
            "mean          0.000053\n",
            "std           0.007265\n",
            "min           0.000000\n",
            "25%           0.000000\n",
            "50%           0.000000\n",
            "75%           0.000000\n",
            "max           1.000000\n",
            "Name: Required_photo_ids, dtype: float64\n"
          ],
          "name": "stdout"
        }
      ]
    },
    {
      "metadata": {
        "id": "bbdqxjltDvub",
        "colab_type": "text"
      },
      "cell_type": "markdown",
      "source": [
        "Those fields are practically always constant with a 0 value so we are going to drop them"
      ]
    },
    {
      "metadata": {
        "id": "8u8pUpKjD3y6",
        "colab_type": "code",
        "outputId": "96138608-7c64-4a12-db2d-38ad4339a594",
        "colab": {
          "base_uri": "https://localhost:8080/",
          "height": 51
        }
      },
      "cell_type": "code",
      "source": [
        "train_df.drop('Required_audio', axis=1, inplace=True)\n",
        "train_df.drop('Required_photo_ids', axis=1, inplace=True)\n",
        "print(train_df.shape)\n",
        "print(test_df.shape)\n"
      ],
      "execution_count": 11,
      "outputs": [
        {
          "output_type": "stream",
          "text": [
            "(132637, 42)\n",
            "(10000, 41)\n"
          ],
          "name": "stdout"
        }
      ]
    },
    {
      "metadata": {
        "id": "VDSUh4tQ6qZt",
        "colab_type": "text"
      },
      "cell_type": "markdown",
      "source": [
        "I will have a new look to the fields of the dataset and detect some fields with nearly constant values (Has_*)\n"
      ]
    },
    {
      "metadata": {
        "id": "KlmaYHu-gcFt",
        "colab_type": "code",
        "outputId": "a0b0ce99-4dca-4dcd-b742-a6415f6833ed",
        "colab": {
          "base_uri": "https://localhost:8080/",
          "height": 1351
        }
      },
      "cell_type": "code",
      "source": [
        "\n",
        "def create_description_table(df, descriptions, round_num=2):\n",
        "    df_desc = df.dtypes.to_frame(name='Data Type')\n",
        "    #df_desc['Description'] = descriptions\n",
        "    #df_desc['Missing Values'] = df.isnull().sum()\n",
        "    df_desc['Mean'] = df.select_dtypes('number').mean().round(round_num)\n",
        "    df_desc['Most Common'] = df.apply(lambda x: x.value_counts().index[0])\n",
        "    df_desc['Most Common Ct'] = df.apply(lambda x: x.value_counts().iloc[0])\n",
        "    df_desc['Unique Values'] = df.nunique()\n",
        "    return df_desc\n",
        "  \n",
        "create_description_table(train_df,'Description')\n",
        "\n",
        "\n"
      ],
      "execution_count": 12,
      "outputs": [
        {
          "output_type": "execute_result",
          "data": {
            "text/html": [
              "<div>\n",
              "<style scoped>\n",
              "    .dataframe tbody tr th:only-of-type {\n",
              "        vertical-align: middle;\n",
              "    }\n",
              "\n",
              "    .dataframe tbody tr th {\n",
              "        vertical-align: top;\n",
              "    }\n",
              "\n",
              "    .dataframe thead th {\n",
              "        text-align: right;\n",
              "    }\n",
              "</style>\n",
              "<table border=\"1\" class=\"dataframe\">\n",
              "  <thead>\n",
              "    <tr style=\"text-align: right;\">\n",
              "      <th></th>\n",
              "      <th>Data Type</th>\n",
              "      <th>Mean</th>\n",
              "      <th>Most Common</th>\n",
              "      <th>Most Common Ct</th>\n",
              "      <th>Unique Values</th>\n",
              "    </tr>\n",
              "  </thead>\n",
              "  <tbody>\n",
              "    <tr>\n",
              "      <th>Unnamed: 0</th>\n",
              "      <td>int64</td>\n",
              "      <td>71309.99</td>\n",
              "      <td>1.662700e+04</td>\n",
              "      <td>1</td>\n",
              "      <td>132637</td>\n",
              "    </tr>\n",
              "    <tr>\n",
              "      <th>id</th>\n",
              "      <td>int64</td>\n",
              "      <td>71309.99</td>\n",
              "      <td>1.662700e+04</td>\n",
              "      <td>1</td>\n",
              "      <td>132637</td>\n",
              "    </tr>\n",
              "    <tr>\n",
              "      <th>Account_age_days</th>\n",
              "      <td>float64</td>\n",
              "      <td>637.81</td>\n",
              "      <td>8.410000e+02</td>\n",
              "      <td>4644</td>\n",
              "      <td>1255</td>\n",
              "    </tr>\n",
              "    <tr>\n",
              "      <th>Country_CAT</th>\n",
              "      <td>int64</td>\n",
              "      <td>0.14</td>\n",
              "      <td>0.000000e+00</td>\n",
              "      <td>115209</td>\n",
              "      <td>13</td>\n",
              "    </tr>\n",
              "    <tr>\n",
              "      <th>Currency_CAT</th>\n",
              "      <td>int64</td>\n",
              "      <td>0.13</td>\n",
              "      <td>0.000000e+00</td>\n",
              "      <td>115209</td>\n",
              "      <td>2</td>\n",
              "    </tr>\n",
              "    <tr>\n",
              "      <th>Day_of_the_month</th>\n",
              "      <td>int64</td>\n",
              "      <td>16.47</td>\n",
              "      <td>2.700000e+01</td>\n",
              "      <td>9549</td>\n",
              "      <td>28</td>\n",
              "    </tr>\n",
              "    <tr>\n",
              "      <th>Day_of_the_week</th>\n",
              "      <td>int64</td>\n",
              "      <td>2.11</td>\n",
              "      <td>2.000000e+00</td>\n",
              "      <td>28430</td>\n",
              "      <td>7</td>\n",
              "    </tr>\n",
              "    <tr>\n",
              "      <th>Dimensions_height</th>\n",
              "      <td>float64</td>\n",
              "      <td>853.12</td>\n",
              "      <td>8.420000e+02</td>\n",
              "      <td>94629</td>\n",
              "      <td>100</td>\n",
              "    </tr>\n",
              "    <tr>\n",
              "      <th>Dimensions_width</th>\n",
              "      <td>float64</td>\n",
              "      <td>595.06</td>\n",
              "      <td>5.950000e+02</td>\n",
              "      <td>95277</td>\n",
              "      <td>102</td>\n",
              "    </tr>\n",
              "    <tr>\n",
              "      <th>First_pending_reminders</th>\n",
              "      <td>float64</td>\n",
              "      <td>607713.16</td>\n",
              "      <td>6.077132e+05</td>\n",
              "      <td>79071</td>\n",
              "      <td>16</td>\n",
              "    </tr>\n",
              "    <tr>\n",
              "      <th>Has_body</th>\n",
              "      <td>int64</td>\n",
              "      <td>0.80</td>\n",
              "      <td>1.000000e+00</td>\n",
              "      <td>106575</td>\n",
              "      <td>2</td>\n",
              "    </tr>\n",
              "    <tr>\n",
              "      <th>Has_protection</th>\n",
              "      <td>float64</td>\n",
              "      <td>0.00</td>\n",
              "      <td>0.000000e+00</td>\n",
              "      <td>132463</td>\n",
              "      <td>2</td>\n",
              "    </tr>\n",
              "    <tr>\n",
              "      <th>Has_signature_position</th>\n",
              "      <td>int64</td>\n",
              "      <td>0.00</td>\n",
              "      <td>0.000000e+00</td>\n",
              "      <td>132588</td>\n",
              "      <td>2</td>\n",
              "    </tr>\n",
              "    <tr>\n",
              "      <th>Has_signer_name</th>\n",
              "      <td>int64</td>\n",
              "      <td>1.00</td>\n",
              "      <td>1.000000e+00</td>\n",
              "      <td>132609</td>\n",
              "      <td>2</td>\n",
              "    </tr>\n",
              "    <tr>\n",
              "      <th>Has_signer_phone</th>\n",
              "      <td>int64</td>\n",
              "      <td>0.03</td>\n",
              "      <td>0.000000e+00</td>\n",
              "      <td>128508</td>\n",
              "      <td>2</td>\n",
              "    </tr>\n",
              "    <tr>\n",
              "      <th>Has_subject</th>\n",
              "      <td>int64</td>\n",
              "      <td>0.28</td>\n",
              "      <td>0.000000e+00</td>\n",
              "      <td>95465</td>\n",
              "      <td>2</td>\n",
              "    </tr>\n",
              "    <tr>\n",
              "      <th>Has_template</th>\n",
              "      <td>int64</td>\n",
              "      <td>0.29</td>\n",
              "      <td>0.000000e+00</td>\n",
              "      <td>94673</td>\n",
              "      <td>2</td>\n",
              "    </tr>\n",
              "    <tr>\n",
              "      <th>Has_terms_and_conditions</th>\n",
              "      <td>int64</td>\n",
              "      <td>0.78</td>\n",
              "      <td>1.000000e+00</td>\n",
              "      <td>103339</td>\n",
              "      <td>2</td>\n",
              "    </tr>\n",
              "    <tr>\n",
              "      <th>In_person</th>\n",
              "      <td>float64</td>\n",
              "      <td>0.53</td>\n",
              "      <td>1.000000e+00</td>\n",
              "      <td>70098</td>\n",
              "      <td>3</td>\n",
              "    </tr>\n",
              "    <tr>\n",
              "      <th>License_tier_CAT</th>\n",
              "      <td>int64</td>\n",
              "      <td>4.64</td>\n",
              "      <td>5.000000e+00</td>\n",
              "      <td>110400</td>\n",
              "      <td>6</td>\n",
              "    </tr>\n",
              "    <tr>\n",
              "      <th>Method_CAT</th>\n",
              "      <td>int64</td>\n",
              "      <td>1.42</td>\n",
              "      <td>1.000000e+00</td>\n",
              "      <td>70058</td>\n",
              "      <td>3</td>\n",
              "    </tr>\n",
              "    <tr>\n",
              "      <th>Non_customer_enterprise_signer</th>\n",
              "      <td>int64</td>\n",
              "      <td>0.06</td>\n",
              "      <td>0.000000e+00</td>\n",
              "      <td>125074</td>\n",
              "      <td>2</td>\n",
              "    </tr>\n",
              "    <tr>\n",
              "      <th>Num_of_pending_reminders</th>\n",
              "      <td>int64</td>\n",
              "      <td>7.69</td>\n",
              "      <td>0.000000e+00</td>\n",
              "      <td>79071</td>\n",
              "      <td>23</td>\n",
              "    </tr>\n",
              "    <tr>\n",
              "      <th>Num_of_required_page</th>\n",
              "      <td>int64</td>\n",
              "      <td>0.16</td>\n",
              "      <td>0.000000e+00</td>\n",
              "      <td>118719</td>\n",
              "      <td>16</td>\n",
              "    </tr>\n",
              "    <tr>\n",
              "      <th>Original_sender_mail_domain_CAT</th>\n",
              "      <td>int64</td>\n",
              "      <td>53.87</td>\n",
              "      <td>8.000000e+00</td>\n",
              "      <td>60174</td>\n",
              "      <td>696</td>\n",
              "    </tr>\n",
              "    <tr>\n",
              "      <th>Original_sender_mail_region_CAT</th>\n",
              "      <td>int64</td>\n",
              "      <td>0.33</td>\n",
              "      <td>0.000000e+00</td>\n",
              "      <td>103681</td>\n",
              "      <td>32</td>\n",
              "    </tr>\n",
              "    <tr>\n",
              "      <th>Original_sender_mail_username_CAT</th>\n",
              "      <td>int64</td>\n",
              "      <td>67.29</td>\n",
              "      <td>7.000000e+00</td>\n",
              "      <td>60174</td>\n",
              "      <td>849</td>\n",
              "    </tr>\n",
              "    <tr>\n",
              "      <th>Original_size</th>\n",
              "      <td>float64</td>\n",
              "      <td>536322.63</td>\n",
              "      <td>2.250130e+06</td>\n",
              "      <td>1928</td>\n",
              "      <td>52641</td>\n",
              "    </tr>\n",
              "    <tr>\n",
              "      <th>Pages</th>\n",
              "      <td>float64</td>\n",
              "      <td>7.21</td>\n",
              "      <td>1.000000e+00</td>\n",
              "      <td>48103</td>\n",
              "      <td>124</td>\n",
              "    </tr>\n",
              "    <tr>\n",
              "      <th>Part</th>\n",
              "      <td>int64</td>\n",
              "      <td>0.20</td>\n",
              "      <td>0.000000e+00</td>\n",
              "      <td>121517</td>\n",
              "      <td>40</td>\n",
              "    </tr>\n",
              "    <tr>\n",
              "      <th>Repaired</th>\n",
              "      <td>float64</td>\n",
              "      <td>0.99</td>\n",
              "      <td>1.000000e+00</td>\n",
              "      <td>128129</td>\n",
              "      <td>3</td>\n",
              "    </tr>\n",
              "    <tr>\n",
              "      <th>Required_photos</th>\n",
              "      <td>int64</td>\n",
              "      <td>0.00</td>\n",
              "      <td>0.000000e+00</td>\n",
              "      <td>132478</td>\n",
              "      <td>2</td>\n",
              "    </tr>\n",
              "    <tr>\n",
              "      <th>Seat_admin_role</th>\n",
              "      <td>int64</td>\n",
              "      <td>0.90</td>\n",
              "      <td>1.000000e+00</td>\n",
              "      <td>119263</td>\n",
              "      <td>2</td>\n",
              "    </tr>\n",
              "    <tr>\n",
              "      <th>Signer_mail_domain_CAT</th>\n",
              "      <td>int64</td>\n",
              "      <td>266.85</td>\n",
              "      <td>9.000000e+00</td>\n",
              "      <td>60175</td>\n",
              "      <td>4981</td>\n",
              "    </tr>\n",
              "    <tr>\n",
              "      <th>Signer_mail_region_CAT</th>\n",
              "      <td>int64</td>\n",
              "      <td>0.97</td>\n",
              "      <td>0.000000e+00</td>\n",
              "      <td>110992</td>\n",
              "      <td>107</td>\n",
              "    </tr>\n",
              "    <tr>\n",
              "      <th>Signer_mail_username_CAT</th>\n",
              "      <td>int64</td>\n",
              "      <td>10745.39</td>\n",
              "      <td>4.100000e+01</td>\n",
              "      <td>60174</td>\n",
              "      <td>41484</td>\n",
              "    </tr>\n",
              "    <tr>\n",
              "      <th>Size</th>\n",
              "      <td>int64</td>\n",
              "      <td>539983.86</td>\n",
              "      <td>2.280520e+06</td>\n",
              "      <td>1928</td>\n",
              "      <td>57843</td>\n",
              "    </tr>\n",
              "    <tr>\n",
              "      <th>Source_CAT</th>\n",
              "      <td>int64</td>\n",
              "      <td>0.26</td>\n",
              "      <td>0.000000e+00</td>\n",
              "      <td>103191</td>\n",
              "      <td>5</td>\n",
              "    </tr>\n",
              "    <tr>\n",
              "      <th>Time_of_the_day_seconds</th>\n",
              "      <td>int64</td>\n",
              "      <td>41131.11</td>\n",
              "      <td>3.947000e+04</td>\n",
              "      <td>44</td>\n",
              "      <td>45649</td>\n",
              "    </tr>\n",
              "    <tr>\n",
              "      <th>Type_CAT</th>\n",
              "      <td>int64</td>\n",
              "      <td>0.14</td>\n",
              "      <td>0.000000e+00</td>\n",
              "      <td>113684</td>\n",
              "      <td>2</td>\n",
              "    </tr>\n",
              "    <tr>\n",
              "      <th>User_age_days</th>\n",
              "      <td>float64</td>\n",
              "      <td>366.29</td>\n",
              "      <td>3.140000e+02</td>\n",
              "      <td>4755</td>\n",
              "      <td>1258</td>\n",
              "    </tr>\n",
              "    <tr>\n",
              "      <th>Target_sign</th>\n",
              "      <td>int64</td>\n",
              "      <td>0.67</td>\n",
              "      <td>1.000000e+00</td>\n",
              "      <td>89150</td>\n",
              "      <td>2</td>\n",
              "    </tr>\n",
              "  </tbody>\n",
              "</table>\n",
              "</div>"
            ],
            "text/plain": [
              "                                  Data Type       Mean   Most Common  \\\n",
              "Unnamed: 0                            int64   71309.99  1.662700e+04   \n",
              "id                                    int64   71309.99  1.662700e+04   \n",
              "Account_age_days                    float64     637.81  8.410000e+02   \n",
              "Country_CAT                           int64       0.14  0.000000e+00   \n",
              "Currency_CAT                          int64       0.13  0.000000e+00   \n",
              "Day_of_the_month                      int64      16.47  2.700000e+01   \n",
              "Day_of_the_week                       int64       2.11  2.000000e+00   \n",
              "Dimensions_height                   float64     853.12  8.420000e+02   \n",
              "Dimensions_width                    float64     595.06  5.950000e+02   \n",
              "First_pending_reminders             float64  607713.16  6.077132e+05   \n",
              "Has_body                              int64       0.80  1.000000e+00   \n",
              "Has_protection                      float64       0.00  0.000000e+00   \n",
              "Has_signature_position                int64       0.00  0.000000e+00   \n",
              "Has_signer_name                       int64       1.00  1.000000e+00   \n",
              "Has_signer_phone                      int64       0.03  0.000000e+00   \n",
              "Has_subject                           int64       0.28  0.000000e+00   \n",
              "Has_template                          int64       0.29  0.000000e+00   \n",
              "Has_terms_and_conditions              int64       0.78  1.000000e+00   \n",
              "In_person                           float64       0.53  1.000000e+00   \n",
              "License_tier_CAT                      int64       4.64  5.000000e+00   \n",
              "Method_CAT                            int64       1.42  1.000000e+00   \n",
              "Non_customer_enterprise_signer        int64       0.06  0.000000e+00   \n",
              "Num_of_pending_reminders              int64       7.69  0.000000e+00   \n",
              "Num_of_required_page                  int64       0.16  0.000000e+00   \n",
              "Original_sender_mail_domain_CAT       int64      53.87  8.000000e+00   \n",
              "Original_sender_mail_region_CAT       int64       0.33  0.000000e+00   \n",
              "Original_sender_mail_username_CAT     int64      67.29  7.000000e+00   \n",
              "Original_size                       float64  536322.63  2.250130e+06   \n",
              "Pages                               float64       7.21  1.000000e+00   \n",
              "Part                                  int64       0.20  0.000000e+00   \n",
              "Repaired                            float64       0.99  1.000000e+00   \n",
              "Required_photos                       int64       0.00  0.000000e+00   \n",
              "Seat_admin_role                       int64       0.90  1.000000e+00   \n",
              "Signer_mail_domain_CAT                int64     266.85  9.000000e+00   \n",
              "Signer_mail_region_CAT                int64       0.97  0.000000e+00   \n",
              "Signer_mail_username_CAT              int64   10745.39  4.100000e+01   \n",
              "Size                                  int64  539983.86  2.280520e+06   \n",
              "Source_CAT                            int64       0.26  0.000000e+00   \n",
              "Time_of_the_day_seconds               int64   41131.11  3.947000e+04   \n",
              "Type_CAT                              int64       0.14  0.000000e+00   \n",
              "User_age_days                       float64     366.29  3.140000e+02   \n",
              "Target_sign                           int64       0.67  1.000000e+00   \n",
              "\n",
              "                                   Most Common Ct  Unique Values  \n",
              "Unnamed: 0                                      1         132637  \n",
              "id                                              1         132637  \n",
              "Account_age_days                             4644           1255  \n",
              "Country_CAT                                115209             13  \n",
              "Currency_CAT                               115209              2  \n",
              "Day_of_the_month                             9549             28  \n",
              "Day_of_the_week                             28430              7  \n",
              "Dimensions_height                           94629            100  \n",
              "Dimensions_width                            95277            102  \n",
              "First_pending_reminders                     79071             16  \n",
              "Has_body                                   106575              2  \n",
              "Has_protection                             132463              2  \n",
              "Has_signature_position                     132588              2  \n",
              "Has_signer_name                            132609              2  \n",
              "Has_signer_phone                           128508              2  \n",
              "Has_subject                                 95465              2  \n",
              "Has_template                                94673              2  \n",
              "Has_terms_and_conditions                   103339              2  \n",
              "In_person                                   70098              3  \n",
              "License_tier_CAT                           110400              6  \n",
              "Method_CAT                                  70058              3  \n",
              "Non_customer_enterprise_signer             125074              2  \n",
              "Num_of_pending_reminders                    79071             23  \n",
              "Num_of_required_page                       118719             16  \n",
              "Original_sender_mail_domain_CAT             60174            696  \n",
              "Original_sender_mail_region_CAT            103681             32  \n",
              "Original_sender_mail_username_CAT           60174            849  \n",
              "Original_size                                1928          52641  \n",
              "Pages                                       48103            124  \n",
              "Part                                       121517             40  \n",
              "Repaired                                   128129              3  \n",
              "Required_photos                            132478              2  \n",
              "Seat_admin_role                            119263              2  \n",
              "Signer_mail_domain_CAT                      60175           4981  \n",
              "Signer_mail_region_CAT                     110992            107  \n",
              "Signer_mail_username_CAT                    60174          41484  \n",
              "Size                                         1928          57843  \n",
              "Source_CAT                                 103191              5  \n",
              "Time_of_the_day_seconds                        44          45649  \n",
              "Type_CAT                                   113684              2  \n",
              "User_age_days                                4755           1258  \n",
              "Target_sign                                 89150              2  "
            ]
          },
          "metadata": {
            "tags": []
          },
          "execution_count": 12
        }
      ]
    },
    {
      "metadata": {
        "id": "PK-W3vINFVON",
        "colab_type": "code",
        "outputId": "c501e554-6140-4d70-8ea4-3255ce5a1160",
        "colab": {
          "base_uri": "https://localhost:8080/",
          "height": 170
        }
      },
      "cell_type": "code",
      "source": [
        "train_df['Has_signer_name'].describe()"
      ],
      "execution_count": 13,
      "outputs": [
        {
          "output_type": "execute_result",
          "data": {
            "text/plain": [
              "count    132637.000000\n",
              "mean          0.999789\n",
              "std           0.014528\n",
              "min           0.000000\n",
              "25%           1.000000\n",
              "50%           1.000000\n",
              "75%           1.000000\n",
              "max           1.000000\n",
              "Name: Has_signer_name, dtype: float64"
            ]
          },
          "metadata": {
            "tags": []
          },
          "execution_count": 13
        }
      ]
    },
    {
      "metadata": {
        "id": "iQbs9OC4LH6B",
        "colab_type": "text"
      },
      "cell_type": "markdown",
      "source": [
        "After analyzing those fields and taking into account the mean and standard deviation and the difference between max and min number we consider it nearly constants or bringing no value to the final result so we drop it. Index and Unnamed: 0 that has the same values as index I will also drop them"
      ]
    },
    {
      "metadata": {
        "id": "BDhzoPoiLSAz",
        "colab_type": "code",
        "outputId": "4da9522a-879b-4d25-bdb3-955fa7cf96d5",
        "colab": {
          "base_uri": "https://localhost:8080/",
          "height": 51
        }
      },
      "cell_type": "code",
      "source": [
        "\n",
        "drop_columns = ['Has_body','Has_protection','Has_signature_position','Has_signer_name','Has_signer_phone','Unnamed: 0','id']\n",
        "train_df.drop(drop_columns, axis=1, inplace=True)\n",
        "test_df.drop(drop_columns, axis=1, inplace=True)\n",
        "print(train_df.shape)\n",
        "print(test_df.shape)\n",
        "\n",
        "\n",
        "\n"
      ],
      "execution_count": 14,
      "outputs": [
        {
          "output_type": "stream",
          "text": [
            "(132637, 35)\n",
            "(10000, 34)\n"
          ],
          "name": "stdout"
        }
      ]
    },
    {
      "metadata": {
        "id": "PgMsSxH5MiZw",
        "colab_type": "text"
      },
      "cell_type": "markdown",
      "source": [
        "# Analytical study of the dataset\n",
        "We move to study relations between features. To look of there are any linear correlations, we start applying a Spearman's rank correlation . Apparently there are no strong linear correlations. Spearman coefficients no bigger than 0,1"
      ]
    },
    {
      "metadata": {
        "id": "nKG3v4ljM0sG",
        "colab_type": "code",
        "outputId": "76fbfa6c-d968-472b-d658-56d6fa2fa3c9",
        "colab": {
          "base_uri": "https://localhost:8080/",
          "height": 634
        }
      },
      "cell_type": "code",
      "source": [
        "labels = []\n",
        "values = []\n",
        "for col in train_df.columns:\n",
        "    if col not in [\"Limit_quantity\",\"id\",\"Zipcode\",\"Target_sign\",\"Paid_per_year,Part\",\"Raw_text\"]:\n",
        "        labels.append(col)\n",
        "        #print (col)\n",
        "        values.append(spearmanr(train_df[col].values, train_df[\"Target_sign\"].values)[0])\n",
        "corr_df = pd.DataFrame({'col_labels':labels, 'corr_values':values})\n",
        "corr_df = corr_df.sort_values(by='corr_values')\n",
        " \n",
        "corr_df = corr_df[(corr_df['corr_values']>0.1) | (corr_df['corr_values']<-0.1)]\n",
        "ind = np.arange(corr_df.shape[0])\n",
        "width = 0.3\n",
        "fig, ax = plt.subplots(figsize=(6,4))\n",
        "#fig, ax = plt.subplots(figsize=(12,30))\n",
        "rects = ax.barh(ind, np.array(corr_df.corr_values.values), color='b')\n",
        "ax.set_yticks(ind)\n",
        "ax.set_yticklabels(corr_df.col_labels.values, rotation='horizontal')\n",
        "ax.set_xlabel(\"Correlation coefficient\")\n",
        "ax.set_title(\"Correlation coefficient of the variables\")\n",
        "plt.show()\n",
        "\n",
        "import seaborn as sns\n",
        "\n",
        "cols_to_use = corr_df[(corr_df['corr_values']>0.11) | (corr_df['corr_values']<-0.11)].col_labels.tolist()\n",
        "\n",
        "temp_df = train_df[cols_to_use]\n",
        "corrmat = temp_df.corr(method='spearman')\n",
        "f, ax = plt.subplots(figsize=(4, 4))\n",
        "\n",
        "# Draw the heatmap using seaborn\n",
        "sns.heatmap(corrmat, vmax=1., square=True, cmap=\"YlGnBu\", annot=True)\n",
        "plt.title(\"Important variables correlation map\", fontsize=15)\n",
        "plt.show()"
      ],
      "execution_count": 0,
      "outputs": [
        {
          "output_type": "display_data",
          "data": {
            "image/png": "[encoded data removed]",
            "text/plain": [
              "<matplotlib.figure.Figure at 0x7f84731c5dd8>"
            ]
          },
          "metadata": {
            "tags": []
          }
        },
        {
          "output_type": "display_data",
          "data": {
            "image/png": "[encoded data removed]",
            "text/plain": [
              "<matplotlib.figure.Figure at 0x7f846f62d7f0>"
            ]
          },
          "metadata": {
            "tags": []
          }
        }
      ]
    },
    {
      "metadata": {
        "id": "J_9bjV0_NsIS",
        "colab_type": "text"
      },
      "cell_type": "markdown",
      "source": [
        "# Feature Importance  \n",
        "We will use Extra trees model\n",
        "The red bars are the feature importances of the forest, along with their inter-trees variability. We clearly see fields containing time indication that has to have some relationship with the target.: Day_of_the_week, Time_of_the_day_seconds and Day_of_the_month\n",
        "\n"
      ]
    },
    {
      "metadata": {
        "id": "888ltjjlOLbH",
        "colab_type": "code",
        "colab": {}
      },
      "cell_type": "code",
      "source": [
        "train_X = train_df.drop(\"Target_sign\", axis=1)\n",
        "train_y = np.log1p(train_df[\"Target_sign\"].values)"
      ],
      "execution_count": 0,
      "outputs": []
    },
    {
      "metadata": {
        "id": "adKD4Qf2N4PF",
        "colab_type": "code",
        "outputId": "2d8d4b16-fad1-4204-a337-6bfec6680874",
        "colab": {
          "base_uri": "https://localhost:8080/",
          "height": 875
        }
      },
      "cell_type": "code",
      "source": [
        "model = ensemble.ExtraTreesRegressor(n_estimators=200, max_depth=20, max_features=0.5, n_jobs=-1, random_state=0)\n",
        "model.fit(train_X, train_y)\n",
        "\n",
        "## plot the importances ##\n",
        "feat_names = train_X.columns.values\n",
        "importances = model.feature_importances_\n",
        "std = np.std([tree.feature_importances_ for tree in model.estimators_], axis=0)\n",
        "indices = np.argsort(importances)[::-1][:20]\n",
        "\n",
        "plt.figure(figsize=(12,12))\n",
        "plt.title(\"Feature importances\")\n",
        "plt.bar(range(len(indices)), importances[indices], color=\"r\", yerr=std[indices], align=\"center\")\n",
        "plt.xticks(range(len(indices)), feat_names[indices], rotation='vertical')\n",
        "plt.xlim([-1, len(indices)])\n",
        "plt.show()"
      ],
      "execution_count": 0,
      "outputs": [
        {
          "output_type": "display_data",
          "data": {
            "image/png": "[encoded data removed]",
            "text/plain": [
              "<matplotlib.figure.Figure at 0x7f84739fef28>"
            ]
          },
          "metadata": {
            "tags": []
          }
        }
      ]
    },
    {
      "metadata": {
        "id": "kpc1RodOQjoz",
        "colab_type": "text"
      },
      "cell_type": "markdown",
      "source": [
        "We clearly see three fields that has to have some relationship with the target.: Day_of_the_week, Time_of_the_day_seconds and Day_of_the_month let's explore those relations. First we have a look if there are no outliers\n"
      ]
    },
    {
      "metadata": {
        "id": "DksY-MsWQ4dt",
        "colab_type": "code",
        "outputId": "5ba4770b-0eca-45f3-971c-211731d6e0ab",
        "colab": {
          "base_uri": "https://localhost:8080/",
          "height": 361
        }
      },
      "cell_type": "code",
      "source": [
        "plt.subplot(1,2,1)\n",
        "plt.scatter(train_df['Day_of_the_week'], train_df['Target_sign'])\n",
        "plt.ylabel('Feature Y')\n",
        "plt.xlabel('Feature X1')\n",
        "\n",
        "plt.subplot(1,2,2)\n",
        "plt.scatter(train_df['Time_of_the_day_seconds'], train_df['Target_sign'])\n",
        "plt.ylabel('Feature Y')\n",
        "plt.xlabel('Feature X2')\n",
        "\n",
        "plt.show()\n"
      ],
      "execution_count": 0,
      "outputs": [
        {
          "output_type": "display_data",
          "data": {
            "image/png": "[encoded data removed]",
            "text/plain": [
              "<matplotlib.figure.Figure at 0x7f68c3f64be0>"
            ]
          },
          "metadata": {
            "tags": []
          }
        }
      ]
    },
    {
      "metadata": {
        "id": "krDY1KRfRUEQ",
        "colab_type": "text"
      },
      "cell_type": "markdown",
      "source": [
        "Let's see relationships between sign a document and time, day etc... For better human understanding we transform the time in seconds to hours. As those probably are laboral documents there exist relationships between working hours (Wednesdays at 11h) and documents signed. But this is not clearly having relation with the signed docs it's produced but the volume of docs that are happening at that times."
      ]
    },
    {
      "metadata": {
        "id": "oqJAj0rfRaEy",
        "colab_type": "code",
        "outputId": "9e0282c3-037a-4d37-be96-d9a6cfd02b8c",
        "colab": {
          "base_uri": "https://localhost:8080/",
          "height": 356
        }
      },
      "cell_type": "code",
      "source": [
        "train_df[\"TimeReviewed\"] = pd.to_datetime(train_df[\"Time_of_the_day_seconds\"], unit='s').apply(lambda x: x.hour)\n",
        "\n",
        "plt.figure(figsize=(14,5))\n",
        "\n",
        "plt.subplot(1,2,1)\n",
        "plt.hist(train_df['Day_of_the_week'][train_df['Target_sign'] == 0], bins=7, alpha = 0.7, label = 'Not signed')\n",
        "plt.hist(train_df['Day_of_the_week'][train_df['Target_sign'] == 1], bins=7, alpha = 0.7, label = 'Signed')\n",
        "plt.ylabel('Distribution')\n",
        "plt.xlabel('Day of the week')\n",
        "plt.legend()\n",
        "\n",
        "plt.subplot(1,2,2)\n",
        "\n",
        "plt.hist(train_df['TimeReviewed'][train_df['Target_sign'] == 0], bins=12, alpha = 0.7, label = 'Not signed')\n",
        "plt.hist(train_df['TimeReviewed'][train_df['Target_sign'] == 1], bins=12, alpha = 0.7, label = 'Signed')\n",
        "plt.ylabel('Distribution')\n",
        "plt.xlabel('Hour of the day')\n",
        "plt.legend()\n",
        "\n",
        "plt.show()"
      ],
      "execution_count": 0,
      "outputs": [
        {
          "output_type": "display_data",
          "data": {
            "image/png": "[encoded data removed]",
            "text/plain": [
              "<matplotlib.figure.Figure at 0x7f43ba948710>"
            ]
          },
          "metadata": {
            "tags": []
          }
        }
      ]
    },
    {
      "metadata": {
        "id": "mfplJ5MW9fsx",
        "colab_type": "text"
      },
      "cell_type": "markdown",
      "source": [
        "Let's explore the day of the moth (28 days and not 30). We se that it have some direct relationship with the signed documents. Specially at the end of the month. So, from the data we can have some chance of obtaining a prediction (or classification of documents)"
      ]
    },
    {
      "metadata": {
        "id": "OwsVbkR-SCEp",
        "colab_type": "code",
        "outputId": "df35c924-6b9a-47aa-f06f-0c027677b0a5",
        "colab": {
          "base_uri": "https://localhost:8080/",
          "height": 352
        }
      },
      "cell_type": "code",
      "source": [
        "print('Number of days of the month ',train_df['Day_of_the_month'].nunique())\n",
        "train_df[\"TimeReviewed\"] = pd.to_datetime(train_df[\"Time_of_the_day_seconds\"], unit='s').apply(lambda x: x.hour)\n",
        "test_df[\"TimeReviewed\"] = pd.to_datetime(test_df[\"Time_of_the_day_seconds\"], unit='s').apply(lambda x: x.hour)\n",
        "\n",
        "plt.figure(figsize=(14,5))\n",
        "\n",
        "plt.subplot(1,2,1)\n",
        "plt.hist(train_df['Day_of_the_month'][train_df['Target_sign'] == 0], bins=30, alpha = 0.7, label = 'Not signed')\n",
        "plt.hist(train_df['Day_of_the_month'][train_df['Target_sign'] == 1], bins=30, alpha = 0.7, label = 'Signed')\n",
        "plt.ylabel('Distribution')\n",
        "plt.xlabel('Day of the month')\n",
        "plt.legend()\n",
        "\n",
        "plt.show()"
      ],
      "execution_count": 0,
      "outputs": [
        {
          "output_type": "stream",
          "text": [
            "Number of days of the month  28\n"
          ],
          "name": "stdout"
        },
        {
          "output_type": "display_data",
          "data": {
            "image/png": "[encoded data removed]",
            "text/plain": [
              "<matplotlib.figure.Figure at 0x7f43b9f6d9e8>"
            ]
          },
          "metadata": {
            "tags": []
          }
        }
      ]
    },
    {
      "metadata": {
        "id": "_Qqw1N-OSzly",
        "colab_type": "code",
        "outputId": "58395c09-38f5-4796-c5cc-a12d5ad42b35",
        "colab": {
          "base_uri": "https://localhost:8080/",
          "height": 365
        }
      },
      "cell_type": "code",
      "source": [
        "plt.scatter(train_df['Day_of_the_month'], train_df['TimeReviewed'], c = train_df['Target_sign'], cmap = 'autumn')\n",
        "plt.ylabel('Hour of the day')\n",
        "plt.xlabel('Day of the month')\n",
        "plt.colorbar()\n",
        "plt.show()"
      ],
      "execution_count": 0,
      "outputs": [
        {
          "output_type": "display_data",
          "data": {
            "image/png": "[encoded data removed]",
            "text/plain": [
              "<matplotlib.figure.Figure at 0x7f43bd6c9a20>"
            ]
          },
          "metadata": {
            "tags": []
          }
        }
      ]
    },
    {
      "metadata": {
        "id": "7ealAr1D-dTc",
        "colab_type": "text"
      },
      "cell_type": "markdown",
      "source": [
        "There are some more correlations like Account_age_days so we can try to build a model."
      ]
    },
    {
      "metadata": {
        "id": "DUO9U6baSy4o",
        "colab_type": "code",
        "outputId": "77db9673-6c15-4cf0-ae16-b130bfef5a43",
        "colab": {
          "base_uri": "https://localhost:8080/",
          "height": 334
        }
      },
      "cell_type": "code",
      "source": [
        "plt.figure(figsize=(14,5))\n",
        "plt.subplot(1,2,1)\n",
        "plt.hist(train_df['Account_age_days'][train_df['Target_sign'] == 0], bins=30, alpha = 0.7, label = 'Not signed')\n",
        "plt.hist(train_df['Account_age_days'][train_df['Target_sign'] == 1], bins=30, alpha = 0.7, label = 'Signed')\n",
        "plt.ylabel('Distribution')\n",
        "plt.xlabel('Account_age_days')\n",
        "plt.legend()\n",
        "plt.show()"
      ],
      "execution_count": 0,
      "outputs": [
        {
          "output_type": "display_data",
          "data": {
            "image/png": "[encoded data removed]",
            "text/plain": [
              "<matplotlib.figure.Figure at 0x7f43ba0c71d0>"
            ]
          },
          "metadata": {
            "tags": []
          }
        }
      ]
    },
    {
      "metadata": {
        "id": "ExXKTaKiT4Hl",
        "colab_type": "text"
      },
      "cell_type": "markdown",
      "source": [
        "# Data modelling\n",
        "Lets move to build the regression model studying different regression/classification models. We will explore the possibilities of different models using K-Fold Cross Validation and modify the hyperparameters of the model as sometimes the sklearn default parameters (specially in random forest) do not prevent overfitting and the model do not learn from the data.\n",
        "\n"
      ]
    },
    {
      "metadata": {
        "id": "TaJ0rsKjUc6D",
        "colab_type": "code",
        "colab": {}
      },
      "cell_type": "code",
      "source": [
        "\n",
        "from sklearn.model_selection import train_test_split\n",
        "\n",
        "#x_train, x_test, y_train, y_test = train_test_split(X_train, Y_train, test_size=0.20)\n",
        "\n",
        "# Algorithms\n",
        "from sklearn import linear_model\n",
        "from sklearn.linear_model import LogisticRegression\n",
        "from sklearn.ensemble import RandomForestClassifier\n",
        "from sklearn.linear_model import Perceptron\n",
        "from sklearn.linear_model import SGDClassifier\n",
        "from sklearn.tree import DecisionTreeClassifier\n",
        "from sklearn.neighbors import KNeighborsClassifier\n",
        "from sklearn.svm import SVC, LinearSVC\n",
        "from sklearn.naive_bayes import GaussianNB"
      ],
      "execution_count": 0,
      "outputs": []
    },
    {
      "metadata": {
        "id": "jD7piUqakmFC",
        "colab_type": "code",
        "outputId": "87f40ef3-b401-450c-81fc-3b048d6998bb",
        "colab": {
          "base_uri": "https://localhost:8080/",
          "height": 68
        }
      },
      "cell_type": "code",
      "source": [
        "X_train = train_df\n",
        "X_train = X_train.drop(\"Target_sign\", axis=1) \n",
        "Y_train = train_df['Target_sign']\n",
        "X_test = test_df\n",
        "\n",
        "print(X_train.shape)\n",
        "print(Y_train.shape)\n",
        "print(X_test.shape)\n",
        "\n"
      ],
      "execution_count": 0,
      "outputs": [
        {
          "output_type": "stream",
          "text": [
            "(132637, 34)\n",
            "(132637,)\n",
            "(10000, 34)\n"
          ],
          "name": "stdout"
        }
      ]
    },
    {
      "metadata": {
        "id": "iwAfVq6c_sM3",
        "colab_type": "text"
      },
      "cell_type": "markdown",
      "source": [
        "# Estimation of performance\n",
        "We use K-folds for a first approximation (a baseline)to the results that can acchieve some very well known regressor/classification models."
      ]
    },
    {
      "metadata": {
        "id": "oN8Nj0mVgA9P",
        "colab_type": "code",
        "outputId": "eeacbfb4-009e-4c28-b335-3be218c82b38",
        "colab": {
          "base_uri": "https://localhost:8080/",
          "height": 85
        }
      },
      "cell_type": "code",
      "source": [
        "from sklearn.model_selection import cross_val_score\n",
        "rf = RandomForestClassifier(criterion = \"gini\", \n",
        "                                       min_samples_leaf = 1, \n",
        "                                       min_samples_split = 10,   \n",
        "                                       n_estimators=100, \n",
        "                                       max_features='auto', \n",
        "                                       oob_score=True, \n",
        "                                       random_state=1, \n",
        "                                       n_jobs=-1)\n",
        "scores = cross_val_score(rf, X_train, Y_train, cv=10, scoring = \"accuracy\")\n",
        "print(\"Scores:\", scores)\n",
        "print(\"Mean:\", scores.mean())\n",
        "print(\"Standard Deviation:\", scores.std())"
      ],
      "execution_count": 0,
      "outputs": [
        {
          "output_type": "stream",
          "text": [
            "Scores: [0.75708685 0.75512666 0.75527744 0.75316647 0.75738842 0.75610676\n",
            " 0.75972557 0.75548518 0.75277087 0.75759632]\n",
            "Mean: 0.755973053772401\n",
            "Standard Deviation: 0.0019886501914290963\n"
          ],
          "name": "stdout"
        }
      ]
    },
    {
      "metadata": {
        "id": "9CBpTBEsBuLH",
        "colab_type": "code",
        "outputId": "c5fe9e51-791e-46b6-ca78-5f72627ec716",
        "colab": {
          "base_uri": "https://localhost:8080/",
          "height": 85
        }
      },
      "cell_type": "code",
      "source": [
        "decision_tree = DecisionTreeClassifier() \n",
        "scores = cross_val_score(decision_tree , X_train, Y_train, cv=10, scoring = \"accuracy\")\n",
        "print(\"Scores:\", scores)\n",
        "print(\"Mean:\", scores.mean())\n",
        "print(\"Standard Deviation:\", scores.std())"
      ],
      "execution_count": 0,
      "outputs": [
        {
          "output_type": "stream",
          "text": [
            "Scores: [0.69202352 0.69805489 0.68636912 0.69194813 0.69632087 0.6912696\n",
            " 0.69624548 0.69720274 0.69147252 0.68996456]\n",
            "Mean: 0.6930871429419865\n",
            "Standard Deviation: 0.003539352303741588\n"
          ],
          "name": "stdout"
        }
      ]
    },
    {
      "metadata": {
        "id": "2MBl1L38B2P2",
        "colab_type": "code",
        "outputId": "53ed5c88-17a0-4053-b1c2-7f7dff4e1655",
        "colab": {
          "base_uri": "https://localhost:8080/",
          "height": 85
        }
      },
      "cell_type": "code",
      "source": [
        "knn = KNeighborsClassifier(n_neighbors = 3) \n",
        "scores = cross_val_score(knn , X_train, Y_train, cv=10, scoring = \"accuracy\")\n",
        "print(\"Scores:\", scores)\n",
        "print(\"Mean:\", scores.mean())\n",
        "print(\"Standard Deviation:\", scores.std())"
      ],
      "execution_count": 0,
      "outputs": [
        {
          "output_type": "stream",
          "text": [
            "Scores: [0.66917973 0.66902895 0.66842581 0.6675965  0.67068758 0.67061218\n",
            " 0.67596502 0.67134133 0.67096434 0.66968258]\n",
            "Mean: 0.6703484016001052\n",
            "Standard Deviation: 0.002188963845232583\n"
          ],
          "name": "stdout"
        }
      ]
    },
    {
      "metadata": {
        "id": "rN8OCBRMCCgv",
        "colab_type": "code",
        "outputId": "a96923a8-cce5-4d64-9191-843ba0ac0199",
        "colab": {
          "base_uri": "https://localhost:8080/",
          "height": 85
        }
      },
      "cell_type": "code",
      "source": [
        " logreg = LogisticRegression(random_state=0, solver='lbfgs',\n",
        "...                          multi_class='multinomial')\n",
        "scores = cross_val_score(logreg , X_train, Y_train, cv=10, scoring = \"accuracy\")\n",
        "print(\"Scores:\", scores)\n",
        "print(\"Mean:\", scores.mean())\n",
        "print(\"Standard Deviation:\", scores.std())"
      ],
      "execution_count": 0,
      "outputs": [
        {
          "output_type": "stream",
          "text": [
            "Scores: [0.67935766 0.67935766 0.6846351  0.6799608  0.67913148 0.68222256\n",
            " 0.6789807  0.68114303 0.67993667 0.68091684]\n",
            "Mean: 0.6805642490691474\n",
            "Standard Deviation: 0.001673658126072596\n"
          ],
          "name": "stdout"
        }
      ]
    },
    {
      "metadata": {
        "id": "OiYPqhgaCTpe",
        "colab_type": "code",
        "outputId": "db637b88-c8f6-4eeb-d94a-a598495ca694",
        "colab": {
          "base_uri": "https://localhost:8080/",
          "height": 85
        }
      },
      "cell_type": "code",
      "source": [
        "gaussian = GaussianNB() \n",
        "scores = cross_val_score(gaussian , X_train, Y_train, cv=10, scoring = \"accuracy\")\n",
        "print(\"Scores:\", scores)\n",
        "print(\"Mean:\", scores.mean())\n",
        "print(\"Standard Deviation:\", scores.std())"
      ],
      "execution_count": 0,
      "outputs": [
        {
          "output_type": "stream",
          "text": [
            "Scores: [0.68124246 0.67596502 0.68063932 0.67792521 0.67890531 0.68124246\n",
            " 0.67475875 0.68106763 0.67903189 0.67654377]\n",
            "Mean: 0.6787321821719946\n",
            "Standard Deviation: 0.0022516675311903657\n"
          ],
          "name": "stdout"
        }
      ]
    },
    {
      "metadata": {
        "id": "i_qv1Pw2E_wl",
        "colab_type": "code",
        "outputId": "67d99405-9d1f-42f5-e71a-af58ef066f17",
        "colab": {
          "base_uri": "https://localhost:8080/",
          "height": 85
        }
      },
      "cell_type": "code",
      "source": [
        "linear_svc = LinearSVC()\n",
        "scores = cross_val_score(linear_svc , X_train, Y_train, cv=10, scoring = \"accuracy\")\n",
        "print(\"Scores:\", scores)\n",
        "print(\"Mean:\", scores.mean())\n",
        "print(\"Standard Deviation:\", scores.std())"
      ],
      "execution_count": 0,
      "outputs": [
        {
          "output_type": "stream",
          "text": [
            "Scores: [0.65606152 0.62447226 0.6713661  0.67212002 0.6619421  0.67076297\n",
            " 0.3910585  0.35934555 0.6721707  0.662369  ]\n",
            "Mean: 0.6041668718730749\n",
            "Standard Deviation: 0.11548870623704371\n"
          ],
          "name": "stdout"
        }
      ]
    },
    {
      "metadata": {
        "id": "F4xp-oYnFTT1",
        "colab_type": "code",
        "outputId": "43722ab2-f6b1-4a4f-bccb-919252d83090",
        "colab": {
          "base_uri": "https://localhost:8080/",
          "height": 85
        }
      },
      "cell_type": "code",
      "source": [
        "decision_tree = DecisionTreeClassifier() \n",
        "scores = cross_val_score(decision_tree , X_train, Y_train, cv=10, scoring = \"accuracy\")\n",
        "print(\"Scores:\", scores)\n",
        "print(\"Mean:\", scores.mean())\n",
        "print(\"Standard Deviation:\", scores.std())"
      ],
      "execution_count": 0,
      "outputs": [
        {
          "output_type": "stream",
          "text": [
            "Scores: [0.69066647 0.69986429 0.68538902 0.69074186 0.6941345  0.69209891\n",
            " 0.69737636 0.69690115 0.69222649 0.69094473]\n",
            "Mean: 0.6930343793153032\n",
            "Standard Deviation: 0.003960697595211536\n"
          ],
          "name": "stdout"
        }
      ]
    },
    {
      "metadata": {
        "id": "r7Lc1ou1FaNT",
        "colab_type": "text"
      },
      "cell_type": "markdown",
      "source": [
        "#Model exploration\n",
        "We will work with the Random forest classifier to see if we can get better results (accuracy). Let's test to retrain the random Forest with the most important features (selected with a threshold of 0.009). \n",
        "Firstly we will fit a RF model with the parameters used above. The exploration of parameters that sklearn offers seems to need more computation availability has it never ends. I can provide more machines in gcloud.\n",
        "\n",
        "param_grid = { \"criterion\" : [\"gini\", \"entropy\"], \"min_samples_leaf\" : [1, 5, 10, 25, 50, 70], \"min_samples_split\" : [2, 4, 10, 12, 16, 18, 25, 35], \"n_estimators\": [100, 400, 700, 1000, 1500]}\n",
        "from sklearn.model_selection import GridSearchCV, cross_val_score\n",
        "rf = RandomForestClassifier(n_estimators=100, max_features='auto', oob_score=True, random_state=1, n_jobs=-1)\n",
        "clf = GridSearchCV(estimator=rf, param_grid=param_grid, n_jobs=-1)\n",
        "clf.fit(X_train, Y_train)\n",
        "clf.bestparams"
      ]
    },
    {
      "metadata": {
        "id": "gCosfrPoIi_7",
        "colab_type": "code",
        "outputId": "a551b2ac-2555-4d2e-dea9-dfaba63366df",
        "colab": {
          "base_uri": "https://localhost:8080/",
          "height": 34
        }
      },
      "cell_type": "code",
      "source": [
        "\n",
        "random_forest = RandomForestClassifier(criterion = \"gini\", \n",
        "                                       min_samples_leaf = 1, \n",
        "                                       min_samples_split = 10,   \n",
        "                                       n_estimators=100, \n",
        "                                       max_features='auto', \n",
        "                                       oob_score=True, \n",
        "                                       random_state=1, \n",
        "                                       n_jobs=-1)\n",
        "random_forest.fit(X_train, Y_train)\n",
        "Y_prediction = random_forest.predict(X_test)\n",
        "random_forest.score(X_train, Y_train)\n",
        "acc_random_forest = round(random_forest.score(X_train, Y_train) * 100, 2)\n",
        "print (acc_random_forest)"
      ],
      "execution_count": 0,
      "outputs": [
        {
          "output_type": "stream",
          "text": [
            "89.14\n"
          ],
          "name": "stdout"
        }
      ]
    },
    {
      "metadata": {
        "id": "68hLEZDvJoru",
        "colab_type": "text"
      },
      "cell_type": "markdown",
      "source": [
        "Let's retrain the RandomForest with the best features. Important Features is a function of Sklearn framework. We will use a threshold of 0.009, obtaining a 16 important features.\n",
        "We retry RF model with this features."
      ]
    },
    {
      "metadata": {
        "id": "HpS4n-UjC66h",
        "colab_type": "code",
        "outputId": "b950886b-c466-458f-ea6d-0399e7a73f24",
        "colab": {
          "base_uri": "https://localhost:8080/",
          "height": 68
        }
      },
      "cell_type": "code",
      "source": [
        "importances = pd.DataFrame({'feature':X_train.columns,'importance':np.round(random_forest.feature_importances_,3)})\n",
        "importances = importances.sort_values('importance',ascending=False).set_index('feature')\n",
        "\n",
        "#importances.head()\n",
        "\n",
        "important_features=importances[importances.importance > 0.009]\n",
        "important_features.head(35)\n",
        "important_feat = important_features.index.values.tolist()\n",
        "train_important_df = X_train[important_feat]\n",
        "test_important_df = X_test[important_feat]\n",
        "\n",
        "print(test_important_df.shape)\n",
        "print(Y_train.shape)\n",
        "\n",
        "\n",
        "random_forest = RandomForestClassifier(criterion = \"gini\", \n",
        "                                       min_samples_leaf = 1, \n",
        "                                       min_samples_split = 10,   \n",
        "                                       n_estimators=100, \n",
        "                                       max_features='auto', \n",
        "                                       oob_score=True, \n",
        "                                       random_state=1, \n",
        "                                       n_jobs=-1)\n",
        "random_forest.fit(train_important_df, Y_train)\n",
        "Y_prediction = random_forest.predict(test_important_df)\n",
        "random_forest.score(train_important_df, Y_train)\n",
        "acc_random_forest = round(random_forest.score(train_important_df, Y_train) * 100, 2)\n",
        "print(acc_random_forest)"
      ],
      "execution_count": 0,
      "outputs": [
        {
          "output_type": "stream",
          "text": [
            "(10000, 15)\n",
            "(132637,)\n",
            "89.7\n"
          ],
          "name": "stdout"
        }
      ]
    },
    {
      "metadata": {
        "id": "Us6RuLJ5KHS_",
        "colab_type": "code",
        "outputId": "3af95370-d789-49db-c837-4eabe5948f19",
        "colab": {
          "base_uri": "https://localhost:8080/",
          "height": 538
        }
      },
      "cell_type": "code",
      "source": [
        "importances.plot.bar()"
      ],
      "execution_count": 0,
      "outputs": [
        {
          "output_type": "execute_result",
          "data": {
            "text/plain": [
              "<matplotlib.axes._subplots.AxesSubplot at 0x7f43b3cf7390>"
            ]
          },
          "metadata": {
            "tags": []
          },
          "execution_count": 33
        },
        {
          "output_type": "display_data",
          "data": {
            "image/png": "[encoded data removed]",
            "text/plain": [
              "<matplotlib.figure.Figure at 0x7f43b3cf7e48>"
            ]
          },
          "metadata": {
            "tags": []
          }
        }
      ]
    },
    {
      "metadata": {
        "id": "EbNy0DUIKljR",
        "colab_type": "text"
      },
      "cell_type": "markdown",
      "source": [
        "[link text](https://)The final model obtained 89.96 without the using of the text of the documents. Let's have a quick look if we are overfitting the model"
      ]
    },
    {
      "metadata": {
        "id": "RkD4Dk-HcYvv",
        "colab_type": "code",
        "outputId": "ed84b642-657d-4318-9b52-2383a5a45547",
        "colab": {
          "base_uri": "https://localhost:8080/",
          "height": 170
        }
      },
      "cell_type": "code",
      "source": [
        "print(acc_random_forest)\n",
        "from sklearn.model_selection import cross_val_predict\n",
        "from sklearn.metrics import confusion_matrix\n",
        "from sklearn.metrics import precision_score, recall_score\n",
        "from sklearn.metrics import f1_score\n",
        "\n",
        "predictions = cross_val_predict(random_forest, train_important_df, Y_train, cv=3)\n",
        "print('####### Confusion Matrix #########')\n",
        "print(confusion_matrix(Y_train, predictions))\n",
        "print('####### Precission / Recall #########')\n",
        "print(\"Precision:\", precision_score(Y_train, predictions))\n",
        "print(\"Recall:\",recall_score(Y_train, predictions))\n",
        "print('####### F1 Score #########')\n",
        "f1_score(Y_train, predictions)"
      ],
      "execution_count": 0,
      "outputs": [
        {
          "output_type": "stream",
          "text": [
            "89.7\n",
            "####### Confusion Matrix #########\n",
            "[[21049 22438]\n",
            " [10613 78537]]\n",
            "####### Precission / Recall #########\n",
            "Precision: 0.7777865808368408\n",
            "Recall: 0.8809534492428491\n",
            "####### F1 Score #########\n"
          ],
          "name": "stdout"
        },
        {
          "output_type": "execute_result",
          "data": {
            "text/plain": [
              "0.8261617357001972"
            ]
          },
          "metadata": {
            "tags": []
          },
          "execution_count": 20
        }
      ]
    },
    {
      "metadata": {
        "id": "xRl7BSInMvyW",
        "colab_type": "text"
      },
      "cell_type": "markdown",
      "source": [
        "\"predicting that a document will be signed when in reality it won’t is slightly worse than otherwise\" I understand that as we want to minimize he False Positives. In this case FP is quite big 22246 where wrongly classified as Signed. I am not sure if this model can be used for prediction it depends on the trade-off that has to be considered.\n",
        "\n",
        "79161 where correctly predicted as signed. 9989 where wrongly predicted as signed when there were not. \n",
        "\n",
        "How model has good abilities to predict the documents that are signed (it fits well to the trained dataset) but need to increase the precision as it is a requirement of the customer to not badly predict documents as signed.\n",
        "\n",
        "# precision/recall tradeoff\n",
        "\n",
        "After printing the curves I see an interesting point in stopping at threhold of 0,7 to try to imporve the precision. "
      ]
    },
    {
      "metadata": {
        "id": "t4CvSjV_y3u1",
        "colab_type": "code",
        "outputId": "a97b2b71-c2d8-4ddc-8daf-6ab4c51bf60e",
        "colab": {
          "base_uri": "https://localhost:8080/",
          "height": 68
        }
      },
      "cell_type": "code",
      "source": [
        "print(X_train.shape)\n",
        "print(Y_train.shape)\n",
        "y_scores = random_forest.predict_proba(train_important_df)\n",
        "\n",
        "y_scores = y_scores[:,1]\n",
        "\n",
        "print(y_scores)"
      ],
      "execution_count": 0,
      "outputs": [
        {
          "output_type": "stream",
          "text": [
            "(132637, 34)\n",
            "(132637,)\n",
            "[0.11347167 0.99785714 0.07760459 ... 0.75490345 0.23634797 0.12137338]\n"
          ],
          "name": "stdout"
        }
      ]
    },
    {
      "metadata": {
        "id": "8ckg-nLJQqbh",
        "colab_type": "code",
        "outputId": "36943d14-2849-47ac-a466-061337f7fbae",
        "colab": {
          "base_uri": "https://localhost:8080/",
          "height": 473
        }
      },
      "cell_type": "code",
      "source": [
        "from sklearn.metrics import precision_recall_curve\n",
        "\n",
        "# getting the probabilities of our predictions\n",
        "y_scores = random_forest.predict_proba(train_important_df)\n",
        "y_scores = y_scores[:,1]\n",
        "\n",
        "precision, recall, threshold = precision_recall_curve(Y_train, y_scores)\n",
        "def plot_precision_and_recall(precision, recall, threshold):\n",
        "    plt.plot(threshold, precision[:-1], \"r-\", label=\"precision\", linewidth=5)\n",
        "    plt.plot(threshold, recall[:-1], \"b\", label=\"recall\", linewidth=5)\n",
        "    plt.xlabel(\"threshold\", fontsize=19)\n",
        "    plt.legend(loc=\"upper right\", fontsize=19)\n",
        "    plt.ylim([0, 1])\n",
        "\n",
        "plt.figure(figsize=(14, 7))\n",
        "plot_precision_and_recall(precision, recall, threshold)\n",
        "plt.show()"
      ],
      "execution_count": 0,
      "outputs": [
        {
          "output_type": "display_data",
          "data": {
            "image/png": "[encoded data removed]",
            "text/plain": [
              "<matplotlib.figure.Figure at 0x7f68bd849f98>"
            ]
          },
          "metadata": {
            "tags": []
          }
        }
      ]
    },
    {
      "metadata": {
        "id": "Kg2MtzUMotl6",
        "colab_type": "code",
        "colab": {}
      },
      "cell_type": "code",
      "source": [
        ""
      ],
      "execution_count": 0,
      "outputs": []
    },
    {
      "metadata": {
        "id": "RDPt8pz2miYq",
        "colab_type": "code",
        "outputId": "580102ae-8dd3-4e74-f134-b169133286d7",
        "colab": {
          "base_uri": "https://localhost:8080/",
          "height": 71
        }
      },
      "cell_type": "code",
      "source": [
        "testSign = test_df\n",
        "#I remove columns and just stay withthe important features\n",
        "testSign = testSign[important_feat]\n",
        "print(testSign.shape)\n",
        "\n",
        "predictionsSign = random_forest.predict(testSign)\n",
        "\n",
        "\n",
        "#play with the threshold to asjust the model to the tradeoff of the requirements\n",
        "threshold = 0.8 # less FP\n",
        "threshold = 0.5# more accuracy\n",
        "threshold = 0.67# more accuracy\n",
        "predicted_proba = random_forest.predict_proba(testSign)\n",
        "predictionsSign = (predicted_proba [:,1] >= threshold).astype('int')\n",
        "\n",
        "import requests\n",
        "\n",
        "import requests\n",
        "address = ''\n",
        "data = f\"{{\\\"preds\\\": {list(predictionsSign)}}}\"\n",
        "r = requests.post(address, data=data)\n",
        "print(r.text)\n"
      ],
      "execution_count": 0,
      "outputs": [
        {
          "output_type": "stream",
          "text": [
            "(10000, 15)\n",
            "{\"TP\":4776,\"TN\":2264,\"FP\":1036,\"FN\":1924,\"precision\":0.8217481073640743,\"recall\":0.7128358208955224,\"f1_score\":0.7634271099744245,\"accuracy\":0.704}\n"
          ],
          "name": "stdout"
        }
      ]
    }
  ]
}