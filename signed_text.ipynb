{
  "nbformat": 4,
  "nbformat_minor": 0,
  "metadata": {
    "colab": {
      "name": "signed_text.ipynb",
      "version": "0.3.2",
      "provenance": [],
      "include_colab_link": true
    },
    "kernelspec": {
      "name": "python3",
      "display_name": "Python 3"
    }
  },
  "cells": [
    {
      "cell_type": "markdown",
      "metadata": {
        "id": "view-in-github",
        "colab_type": "text"
      },
      "source": [
        "<a href=\"https://colab.research.google.com/github/juanluisrosaramos/document_classification/blob/master/signed_text.ipynb\" target=\"_parent\"><img src=\"https://colab.research.google.com/assets/colab-badge.svg\" alt=\"Open In Colab\"/></a>"
      ]
    },
    {
      "metadata": {
        "id": "r38NDcsoRnf7",
        "colab_type": "code",
        "colab": {}
      },
      "cell_type": "code",
      "source": [
        "import matplotlib.pyplot as plt\n",
        "import numpy as np # linear algebra\n",
        "from __future__ import print_function\n",
        "import pandas as pd\n",
        "\n",
        "\n",
        "train_df = pd.read_csv(\"train.csv\", sep=\",\")\n",
        "test_df = pd.read_csv(\"test.csv\", sep=\",\")"
      ],
      "execution_count": 0,
      "outputs": []
    },
    {
      "metadata": {
        "id": "vCqRetElHnMp",
        "colab_type": "text"
      },
      "cell_type": "markdown",
      "source": [
        "# Working with the text of the documents\n",
        "Exploring Raw_text column to see if there are clear differences in text between the two type of documents(signed or not)\n",
        "\n",
        "\n",
        "*   Delete spanish stopwords\n",
        "*   Tokenization\n",
        "*   Count word frequency\n",
        "\n"
      ]
    },
    {
      "metadata": {
        "id": "wHsV8xr5S2yS",
        "colab_type": "code",
        "outputId": "1e680633-e9cc-43f6-d098-beaee0e9da49",
        "colab": {
          "base_uri": "https://localhost:8080/",
          "height": 51
        }
      },
      "cell_type": "code",
      "source": [
        "import string\n",
        "import nltk\n",
        "from nltk.stem import SnowballStemmer\n",
        "nltk.download('stopwords')\n",
        "from nltk.corpus import stopwords\n",
        "from sklearn.feature_extraction.text import TfidfVectorizer\n",
        "from sklearn.model_selection import train_test_split\n",
        "import numpy as np\n",
        "import pandas as pd\n",
        "import matplotlib.pyplot as plt\n",
        "from collections import Counter\n",
        "from sklearn import feature_extraction, model_selection, naive_bayes, metrics, svm\n",
        "from IPython.display import Image\n",
        "import warnings\n",
        "warnings.filterwarnings(\"ignore\")\n",
        "%matplotlib inline  \n"
      ],
      "execution_count": 0,
      "outputs": [
        {
          "output_type": "stream",
          "text": [
            "[nltk_data] Downloading package stopwords to /root/nltk_data...\n",
            "[nltk_data]   Unzipping corpora/stopwords.zip.\n"
          ],
          "name": "stdout"
        }
      ]
    },
    {
      "metadata": {
        "id": "VcwlnIWp0sCJ",
        "colab_type": "code",
        "colab": {}
      },
      "cell_type": "code",
      "source": [
        "stop_words = stopwords.words('spanish')\n",
        "# tokenization \n",
        "tokenized_doc = train_df['Raw_text'].apply(lambda x: x.split())"
      ],
      "execution_count": 0,
      "outputs": []
    },
    {
      "metadata": {
        "id": "kREe2Evp08YS",
        "colab_type": "code",
        "colab": {}
      },
      "cell_type": "code",
      "source": [
        "# remove stop-words \n",
        "tokenized_doc = tokenized_doc.apply(lambda x: [item for item in x if item not in stop_words])"
      ],
      "execution_count": 0,
      "outputs": []
    },
    {
      "metadata": {
        "id": "4KuvosVo2J1J",
        "colab_type": "code",
        "colab": {}
      },
      "cell_type": "code",
      "source": [
        "#load the new raw text into pandas dataframe\n",
        "detokenized_doc = [] \n",
        "for i in range(len(train_df)): \n",
        "    t = ' '.join(tokenized_doc[i]) \n",
        "    detokenized_doc.append(t) \n",
        "train_df['Raw_text'] = detokenized_doc\n"
      ],
      "execution_count": 0,
      "outputs": []
    },
    {
      "metadata": {
        "id": "1triKAiWJfr3",
        "colab_type": "text"
      },
      "cell_type": "markdown",
      "source": [
        "# Count word frequency"
      ]
    },
    {
      "metadata": {
        "id": "Q-tyMkkQjoKW",
        "colab_type": "code",
        "colab": {}
      },
      "cell_type": "code",
      "source": [
        "count1 = Counter(\" \".join(train_df[train_df['Target_sign']==1][\"Raw_text\"]).split()).most_common(20)\n",
        "df1 = pd.DataFrame.from_dict(count1)\n",
        "df1 = df1.rename(columns={0: \"words in signed\", 1 : \"count\"})\n",
        "count2 = Counter(\" \".join(train_df[train_df['Target_sign']==0][\"Raw_text\"]).split()).most_common(20)\n",
        "df2 = pd.DataFrame.from_dict(count2)\n",
        "df2 = df2.rename(columns={0: \"words in non signed\", 1 : \"count_\"})"
      ],
      "execution_count": 0,
      "outputs": []
    },
    {
      "metadata": {
        "id": "9B_QcoM0oYqk",
        "colab_type": "code",
        "outputId": "877f619a-4659-42cf-e5ab-6c63e4fc8a9b",
        "colab": {
          "base_uri": "https://localhost:8080/",
          "height": 337
        }
      },
      "cell_type": "code",
      "source": [
        "df1.plot.bar(legend = False)\n",
        "y_pos = np.arange(len(df1[\"words in signed\"]))\n",
        "plt.xticks(y_pos, df1[\"words in signed\"])\n",
        "plt.title('More frequent words in signed messages')\n",
        "plt.xlabel('words')\n",
        "plt.ylabel('number')\n",
        "plt.show()"
      ],
      "execution_count": 0,
      "outputs": [
        {
          "output_type": "display_data",
          "data": {
            "image/png": "[encoded data removed]",
            "text/plain": [
              "<matplotlib.figure.Figure at 0x7f146f62f1d0>"
            ]
          },
          "metadata": {
            "tags": []
          }
        }
      ]
    },
    {
      "metadata": {
        "id": "UUunFqLVowfz",
        "colab_type": "code",
        "outputId": "d68c3388-0ccf-4a75-f8f7-7bb959836186",
        "colab": {
          "base_uri": "https://localhost:8080/",
          "height": 337
        }
      },
      "cell_type": "code",
      "source": [
        "df2.plot.bar(legend = False, color = 'orange')\n",
        "y_pos = np.arange(len(df2[\"words in non signed\"]))\n",
        "plt.xticks(y_pos, df2[\"words in non signed\"])\n",
        "plt.title('More frequent words in non signed messages')\n",
        "plt.xlabel('words')\n",
        "plt.ylabel('number')\n",
        "plt.show()"
      ],
      "execution_count": 0,
      "outputs": [
        {
          "output_type": "display_data",
          "data": {
            "image/png": "[encoded data removed]",
            "text/plain": [
              "<matplotlib.figure.Figure at 0x7f127a032860>"
            ]
          },
          "metadata": {
            "tags": []
          }
        }
      ]
    },
    {
      "metadata": {
        "id": "0HQIdphaSlUX",
        "colab_type": "text"
      },
      "cell_type": "markdown",
      "source": [
        "# Training a model\n",
        "We detected just a few words differences between signed and not signed dosuments. Specially with the word \"asegurado\" \n",
        "We can explore how a classifying model will perform with this text."
      ]
    },
    {
      "metadata": {
        "id": "x_ICnL-4e0Hv",
        "colab_type": "text"
      },
      "cell_type": "markdown",
      "source": [
        "**Bag-of-Words (BoW)**\n",
        "BoW counts the number of times that tokens appear in every document of the collection. It returns a matrix with the next characteristics:\n",
        "\n",
        "Number of columns = number of unique tokens in the whole collection of documents (vocabulary).\n",
        "\n",
        "Number of rows = number of documents in the whole collection of documents."
      ]
    },
    {
      "metadata": {
        "id": "BQ7V6esPpkjK",
        "colab_type": "code",
        "outputId": "a5cd1edd-3a0f-4c51-f890-bf65a21e4ec4",
        "colab": {
          "base_uri": "https://localhost:8080/",
          "height": 34
        }
      },
      "cell_type": "code",
      "source": [
        "#Convert a collection of text documents to a matrix of token counts\n",
        "f = feature_extraction.text.CountVectorizer()\n",
        "X = f.fit_transform(train_df[\"Raw_text\"])\n",
        "np.shape(X)"
      ],
      "execution_count": 0,
      "outputs": [
        {
          "output_type": "execute_result",
          "data": {
            "text/plain": [
              "(132637, 21205)"
            ]
          },
          "metadata": {
            "tags": []
          },
          "execution_count": 11
        }
      ]
    },
    {
      "metadata": {
        "id": "kCqDqTp9fGfC",
        "colab_type": "text"
      },
      "cell_type": "markdown",
      "source": [
        "Build the training and test partition (a 20%) from test.csv "
      ]
    },
    {
      "metadata": {
        "id": "e4KrneRzq-q9",
        "colab_type": "code",
        "outputId": "0ea1fc80-d13e-4ebb-86f8-7ad0933e8e6f",
        "colab": {
          "base_uri": "https://localhost:8080/",
          "height": 34
        }
      },
      "cell_type": "code",
      "source": [
        "#Split arrays or matrices into random train and test subsets\n",
        "\n",
        "X_train, X_test, y_train, y_test = model_selection.train_test_split(X, train_df['Target_sign'], test_size=0.20, random_state=42)\n",
        "print([np.shape(X_train), np.shape(X_test)])"
      ],
      "execution_count": 0,
      "outputs": [
        {
          "output_type": "stream",
          "text": [
            "[(106109, 21205), (26528, 21205)]\n"
          ],
          "name": "stdout"
        }
      ]
    },
    {
      "metadata": {
        "id": "cQptbSMaUWft",
        "colab_type": "text"
      },
      "cell_type": "markdown",
      "source": [
        "# Training a Multinomial Naive Bayes model\n",
        "The multinomial Naive Bayes classifier is suitable for classification with discrete features (e.g., word counts for text classification). We will train multiple Naive Bayes classifiers  to explore different parametrization."
      ]
    },
    {
      "metadata": {
        "id": "Y_dHdkMFrPrR",
        "colab_type": "code",
        "colab": {}
      },
      "cell_type": "code",
      "source": [
        "list_alpha = np.arange(1/200000, 20, 0.11)\n",
        "score_train = np.zeros(len(list_alpha))\n",
        "score_test = np.zeros(len(list_alpha))\n",
        "recall_test = np.zeros(len(list_alpha))\n",
        "precision_test= np.zeros(len(list_alpha))\n",
        "count = 0\n",
        "for alpha in list_alpha:\n",
        "    bayes = naive_bayes.MultinomialNB(alpha=alpha)\n",
        "    bayes.fit(X_train, y_train)\n",
        "    score_train[count] = bayes.score(X_train, y_train)\n",
        "    score_test[count]= bayes.score(X_test, y_test)\n",
        "    recall_test[count] = metrics.recall_score(y_test, bayes.predict(X_test))\n",
        "    precision_test[count] = metrics.precision_score(y_test, bayes.predict(X_test))\n",
        "    count = count + 1 "
      ],
      "execution_count": 0,
      "outputs": []
    },
    {
      "metadata": {
        "id": "TpJ5WSC0rhYb",
        "colab_type": "code",
        "outputId": "de7c1c60-7593-404e-c1e4-fa4c1ab914be",
        "colab": {
          "base_uri": "https://localhost:8080/",
          "height": 359
        }
      },
      "cell_type": "code",
      "source": [
        "matrix = np.matrix(np.c_[list_alpha, score_train, score_test, recall_test, precision_test])\n",
        "models = pd.DataFrame(data = matrix, columns = \n",
        "             ['alpha', 'Train Accuracy', 'Test Accuracy', 'Test Recall', 'Test Precision'])\n",
        "models.head(n=10)"
      ],
      "execution_count": 0,
      "outputs": [
        {
          "output_type": "execute_result",
          "data": {
            "text/html": [
              "<div>\n",
              "<style scoped>\n",
              "    .dataframe tbody tr th:only-of-type {\n",
              "        vertical-align: middle;\n",
              "    }\n",
              "\n",
              "    .dataframe tbody tr th {\n",
              "        vertical-align: top;\n",
              "    }\n",
              "\n",
              "    .dataframe thead th {\n",
              "        text-align: right;\n",
              "    }\n",
              "</style>\n",
              "<table border=\"1\" class=\"dataframe\">\n",
              "  <thead>\n",
              "    <tr style=\"text-align: right;\">\n",
              "      <th></th>\n",
              "      <th>alpha</th>\n",
              "      <th>Train Accuracy</th>\n",
              "      <th>Test Accuracy</th>\n",
              "      <th>Test Recall</th>\n",
              "      <th>Test Precision</th>\n",
              "    </tr>\n",
              "  </thead>\n",
              "  <tbody>\n",
              "    <tr>\n",
              "      <th>0</th>\n",
              "      <td>0.000005</td>\n",
              "      <td>0.705115</td>\n",
              "      <td>0.698658</td>\n",
              "      <td>0.959099</td>\n",
              "      <td>0.701442</td>\n",
              "    </tr>\n",
              "    <tr>\n",
              "      <th>1</th>\n",
              "      <td>0.110005</td>\n",
              "      <td>0.703937</td>\n",
              "      <td>0.698545</td>\n",
              "      <td>0.959661</td>\n",
              "      <td>0.701190</td>\n",
              "    </tr>\n",
              "    <tr>\n",
              "      <th>2</th>\n",
              "      <td>0.220005</td>\n",
              "      <td>0.703814</td>\n",
              "      <td>0.698432</td>\n",
              "      <td>0.959717</td>\n",
              "      <td>0.701088</td>\n",
              "    </tr>\n",
              "    <tr>\n",
              "      <th>3</th>\n",
              "      <td>0.330005</td>\n",
              "      <td>0.703626</td>\n",
              "      <td>0.698545</td>\n",
              "      <td>0.959998</td>\n",
              "      <td>0.701091</td>\n",
              "    </tr>\n",
              "    <tr>\n",
              "      <th>4</th>\n",
              "      <td>0.440005</td>\n",
              "      <td>0.703541</td>\n",
              "      <td>0.698470</td>\n",
              "      <td>0.959942</td>\n",
              "      <td>0.701050</td>\n",
              "    </tr>\n",
              "    <tr>\n",
              "      <th>5</th>\n",
              "      <td>0.550005</td>\n",
              "      <td>0.703494</td>\n",
              "      <td>0.698470</td>\n",
              "      <td>0.959885</td>\n",
              "      <td>0.701067</td>\n",
              "    </tr>\n",
              "    <tr>\n",
              "      <th>6</th>\n",
              "      <td>0.660005</td>\n",
              "      <td>0.703446</td>\n",
              "      <td>0.698507</td>\n",
              "      <td>0.959942</td>\n",
              "      <td>0.701079</td>\n",
              "    </tr>\n",
              "    <tr>\n",
              "      <th>7</th>\n",
              "      <td>0.770005</td>\n",
              "      <td>0.703428</td>\n",
              "      <td>0.698583</td>\n",
              "      <td>0.960054</td>\n",
              "      <td>0.701104</td>\n",
              "    </tr>\n",
              "    <tr>\n",
              "      <th>8</th>\n",
              "      <td>0.880005</td>\n",
              "      <td>0.703362</td>\n",
              "      <td>0.698583</td>\n",
              "      <td>0.960110</td>\n",
              "      <td>0.701087</td>\n",
              "    </tr>\n",
              "    <tr>\n",
              "      <th>9</th>\n",
              "      <td>0.990005</td>\n",
              "      <td>0.703352</td>\n",
              "      <td>0.698583</td>\n",
              "      <td>0.960110</td>\n",
              "      <td>0.701087</td>\n",
              "    </tr>\n",
              "  </tbody>\n",
              "</table>\n",
              "</div>"
            ],
            "text/plain": [
              "      alpha  Train Accuracy  Test Accuracy  Test Recall  Test Precision\n",
              "0  0.000005        0.705115       0.698658     0.959099        0.701442\n",
              "1  0.110005        0.703937       0.698545     0.959661        0.701190\n",
              "2  0.220005        0.703814       0.698432     0.959717        0.701088\n",
              "3  0.330005        0.703626       0.698545     0.959998        0.701091\n",
              "4  0.440005        0.703541       0.698470     0.959942        0.701050\n",
              "5  0.550005        0.703494       0.698470     0.959885        0.701067\n",
              "6  0.660005        0.703446       0.698507     0.959942        0.701079\n",
              "7  0.770005        0.703428       0.698583     0.960054        0.701104\n",
              "8  0.880005        0.703362       0.698583     0.960110        0.701087\n",
              "9  0.990005        0.703352       0.698583     0.960110        0.701087"
            ]
          },
          "metadata": {
            "tags": []
          },
          "execution_count": 15
        }
      ]
    },
    {
      "metadata": {
        "id": "55aR9RPXimvK",
        "colab_type": "code",
        "outputId": "9ffc8636-ae39-4fe6-b466-9bc37f4a8aca",
        "colab": {
          "base_uri": "https://localhost:8080/",
          "height": 34
        }
      },
      "cell_type": "code",
      "source": [
        "model = naive_bayes.MultinomialNB(alpha=alpha)\n",
        "model.fit(X_train, y_train)\n",
        "preds = model.predict(X_test)\n",
        "accuracy = (preds == y_test).mean()\n",
        "print(accuracy)"
      ],
      "execution_count": 0,
      "outputs": [
        {
          "output_type": "stream",
          "text": [
            "0.6968863088057901\n"
          ],
          "name": "stdout"
        }
      ]
    },
    {
      "metadata": {
        "id": "zw4Iy-bfhh9N",
        "colab_type": "code",
        "outputId": "ab29ae8f-2406-4465-fe1b-6953dc16065e",
        "colab": {
          "base_uri": "https://localhost:8080/",
          "height": 357
        }
      },
      "cell_type": "code",
      "source": [
        "def print_top10(vectorizer, clf, class_labels):\n",
        "    \"\"\"Prints features with the highest coefficient values, per class\"\"\"\n",
        "    feature_names = vectorizer.get_feature_names()\n",
        "    for i, class_label in enumerate(class_labels):\n",
        "        top10 = np.argsort(clf.coef_[0])[-10:]\n",
        "        print(\"%s: %s\" % (class_label,\n",
        "              \" \".join(feature_names[j] for j in top10)))\n",
        "        \n",
        "def show_most_informative_features(vectorizer, clf, n=20):\n",
        "    feature_names = vectorizer.get_feature_names()\n",
        "    coefs_with_fns = sorted(zip(clf.coef_[0], feature_names))\n",
        "    top = zip(coefs_with_fns[:n], coefs_with_fns[:-(n + 1):-1])\n",
        "    for (coef_1, fn_1), (coef_2, fn_2) in top:\n",
        "        print (\"\\t%.4f\\t%-15s\\t\\t%.4f\\t%-15s\" % (coef_1, fn_1, coef_2, fn_2))\n",
        "        \n",
        "show_most_informative_features(f,model)\n"
      ],
      "execution_count": 0,
      "outputs": [
        {
          "output_type": "stream",
          "text": [
            "\t-14.1895\tabandonan      \t\t-4.3823\tcaso           \n",
            "\t-14.1895\tabastecido     \t\t-4.5304\tsi             \n",
            "\t-14.1895\tabejar         \t\t-4.6333\tcontrato       \n",
            "\t-14.1895\tabocan         \t\t-4.6835\tcualquier      \n",
            "\t-14.1895\tabres          \t\t-4.6984\tempresa        \n",
            "\t-14.1895\tabsorbe        \t\t-4.8080\ttrabajo        \n",
            "\t-14.1895\tacababa        \t\t-4.8150\tpresente       \n",
            "\t-14.1895\tacaten         \t\t-4.9952\tasegurado      \n",
            "\t-14.1895\taceitunillo    \t\t-5.0833\tcondiciones    \n",
            "\t-14.1895\tacentuado      \t\t-5.1226\trefiere        \n",
            "\t-14.1895\tachata         \t\t-5.1851\tfecha          \n",
            "\t-14.1895\taclare         \t\t-5.1882\tparte          \n",
            "\t-14.1895\tacogiendo      \t\t-5.2118\tseguridad      \n",
            "\t-14.1895\tacometan       \t\t-5.3185\tpuede          \n",
            "\t-14.1895\tacopiara       \t\t-5.3497\tley            \n",
            "\t-14.1895\tacordamos      \t\t-5.3519\tcada           \n",
            "\t-14.1895\tacordonando    \t\t-5.4177\tdentro         \n",
            "\t-14.1895\tacosar         \t\t-5.4428\tforma          \n",
            "\t-14.1895\tacosto         \t\t-5.4704\timporte        \n",
            "\t-14.1895\tacromio        \t\t-5.5158\tpuesto         \n"
          ],
          "name": "stdout"
        }
      ]
    },
    {
      "metadata": {
        "id": "PEcnoJ5fsHKy",
        "colab_type": "code",
        "outputId": "56870f75-bcfc-4519-aa51-9a3015f32957",
        "colab": {
          "base_uri": "https://localhost:8080/",
          "height": 119
        }
      },
      "cell_type": "code",
      "source": [
        "best_index = models['Test Precision'].idxmax()\n",
        "models.iloc[best_index, :]\n",
        "#models[models['Test Precision']==1].head(n=5)"
      ],
      "execution_count": 0,
      "outputs": [
        {
          "output_type": "execute_result",
          "data": {
            "text/plain": [
              "alpha             0.000005\n",
              "Train Accuracy    0.705115\n",
              "Test Accuracy     0.698658\n",
              "Test Recall       0.959099\n",
              "Test Precision    0.701442\n",
              "Name: 0, dtype: float64"
            ]
          },
          "metadata": {
            "tags": []
          },
          "execution_count": 20
        }
      ]
    },
    {
      "metadata": {
        "id": "ZG7qbYLb6iVm",
        "colab_type": "text"
      },
      "cell_type": "markdown",
      "source": [
        "We are having specially low Precision that was a requirement of the customer: \"predicting that a document will be signed when in reality it won’t is slightly worse than otherwise\"\n",
        "\n",
        "Let's print the confusion matrix of the test partition (builded from the train.csv). And we see too many TP results\n",
        "\n"
      ]
    },
    {
      "metadata": {
        "id": "DHdpqJsTuFSQ",
        "colab_type": "code",
        "outputId": "4767e41a-bc4b-43aa-ebc5-5bacfacbe665",
        "colab": {
          "base_uri": "https://localhost:8080/",
          "height": 111
        }
      },
      "cell_type": "code",
      "source": [
        "m_confusion_test = metrics.confusion_matrix(y_test, bayes.predict(X_test))\n",
        "pd.DataFrame(data = m_confusion_test, columns = ['Predicted 0', 'Predicted 1'],\n",
        "            index = ['Actual 0', 'Actual 1'])"
      ],
      "execution_count": 0,
      "outputs": [
        {
          "output_type": "execute_result",
          "data": {
            "text/html": [
              "<div>\n",
              "<style scoped>\n",
              "    .dataframe tbody tr th:only-of-type {\n",
              "        vertical-align: middle;\n",
              "    }\n",
              "\n",
              "    .dataframe tbody tr th {\n",
              "        vertical-align: top;\n",
              "    }\n",
              "\n",
              "    .dataframe thead th {\n",
              "        text-align: right;\n",
              "    }\n",
              "</style>\n",
              "<table border=\"1\" class=\"dataframe\">\n",
              "  <thead>\n",
              "    <tr style=\"text-align: right;\">\n",
              "      <th></th>\n",
              "      <th>Predicted 0</th>\n",
              "      <th>Predicted 1</th>\n",
              "    </tr>\n",
              "  </thead>\n",
              "  <tbody>\n",
              "    <tr>\n",
              "      <th>Actual 0</th>\n",
              "      <td>1362</td>\n",
              "      <td>7367</td>\n",
              "    </tr>\n",
              "    <tr>\n",
              "      <th>Actual 1</th>\n",
              "      <td>674</td>\n",
              "      <td>17125</td>\n",
              "    </tr>\n",
              "  </tbody>\n",
              "</table>\n",
              "</div>"
            ],
            "text/plain": [
              "          Predicted 0  Predicted 1\n",
              "Actual 0         1362         7367\n",
              "Actual 1          674        17125"
            ]
          },
          "metadata": {
            "tags": []
          },
          "execution_count": 21
        }
      ]
    },
    {
      "metadata": {
        "id": "By32JRY7eYJq",
        "colab_type": "text"
      },
      "cell_type": "markdown",
      "source": [
        "I will not use the RawText"
      ]
    }
  ]
}